{
  "nbformat": 4,
  "nbformat_minor": 0,
  "metadata": {
    "colab": {
      "provenance": [],
      "authorship_tag": "ABX9TyM4LezbShXte7UO6QAdd1Hk",
      "include_colab_link": true
    },
    "kernelspec": {
      "name": "python3",
      "display_name": "Python 3"
    },
    "language_info": {
      "name": "python"
    }
  },
  "cells": [
    {
      "cell_type": "markdown",
      "metadata": {
        "id": "view-in-github",
        "colab_type": "text"
      },
      "source": [
        "<a href=\"https://colab.research.google.com/github/hwan95/HonegongML/blob/main/CH4_Logistic_Regression.ipynb\" target=\"_parent\"><img src=\"https://colab.research.google.com/assets/colab-badge.svg\" alt=\"Open In Colab\"/></a>"
      ]
    },
    {
      "cell_type": "markdown",
      "source": [
        "# 로지스틱 회귀 Logistic Regression\n",
        ": 데이터가 어떤 범주에 속할 확률을 0-1 사이의 값으로 예측하고 분류해주는 지도 학습 알고리즘 \n",
        "\n",
        "- 알고리즘은 선형회귀와 동일\n",
        "- 데이터가 범주형일 때 적용\n",
        "\n",
        "LogisticRegression 은 기본적으로 릿지 회귀와 같이 계수의 제곱을 규제하고 (L2규제) 매개 변수 C 를 사용한다( default C =1)\n",
        "다만, 릿지 회귀에서의 alpha와는 다르게 C값이 작을수록 규제가 커진다."
      ],
      "metadata": {
        "id": "nws2-9KicSh4"
      }
    },
    {
      "cell_type": "markdown",
      "source": [
        "## 데이터 준비하기"
      ],
      "metadata": {
        "id": "bPyu0j88cidg"
      }
    },
    {
      "cell_type": "code",
      "execution_count": 14,
      "metadata": {
        "colab": {
          "base_uri": "https://localhost:8080/",
          "height": 0
        },
        "id": "Lh1Dk1Dwz76Z",
        "outputId": "2c087e1e-e6b0-492d-e59c-8139f71c9730"
      },
      "outputs": [
        {
          "output_type": "execute_result",
          "data": {
            "text/plain": [
              "  Species  Weight  Length  Diagonal   Height   Width\n",
              "0   Bream   242.0    25.4      30.0  11.5200  4.0200\n",
              "1   Bream   290.0    26.3      31.2  12.4800  4.3056\n",
              "2   Bream   340.0    26.5      31.1  12.3778  4.6961\n",
              "3   Bream   363.0    29.0      33.5  12.7300  4.4555\n",
              "4   Bream   430.0    29.0      34.0  12.4440  5.1340"
            ],
            "text/html": [
              "\n",
              "  <div id=\"df-f6ed6443-1e5a-4dec-aae8-82844ce68a9b\">\n",
              "    <div class=\"colab-df-container\">\n",
              "      <div>\n",
              "<style scoped>\n",
              "    .dataframe tbody tr th:only-of-type {\n",
              "        vertical-align: middle;\n",
              "    }\n",
              "\n",
              "    .dataframe tbody tr th {\n",
              "        vertical-align: top;\n",
              "    }\n",
              "\n",
              "    .dataframe thead th {\n",
              "        text-align: right;\n",
              "    }\n",
              "</style>\n",
              "<table border=\"1\" class=\"dataframe\">\n",
              "  <thead>\n",
              "    <tr style=\"text-align: right;\">\n",
              "      <th></th>\n",
              "      <th>Species</th>\n",
              "      <th>Weight</th>\n",
              "      <th>Length</th>\n",
              "      <th>Diagonal</th>\n",
              "      <th>Height</th>\n",
              "      <th>Width</th>\n",
              "    </tr>\n",
              "  </thead>\n",
              "  <tbody>\n",
              "    <tr>\n",
              "      <th>0</th>\n",
              "      <td>Bream</td>\n",
              "      <td>242.0</td>\n",
              "      <td>25.4</td>\n",
              "      <td>30.0</td>\n",
              "      <td>11.5200</td>\n",
              "      <td>4.0200</td>\n",
              "    </tr>\n",
              "    <tr>\n",
              "      <th>1</th>\n",
              "      <td>Bream</td>\n",
              "      <td>290.0</td>\n",
              "      <td>26.3</td>\n",
              "      <td>31.2</td>\n",
              "      <td>12.4800</td>\n",
              "      <td>4.3056</td>\n",
              "    </tr>\n",
              "    <tr>\n",
              "      <th>2</th>\n",
              "      <td>Bream</td>\n",
              "      <td>340.0</td>\n",
              "      <td>26.5</td>\n",
              "      <td>31.1</td>\n",
              "      <td>12.3778</td>\n",
              "      <td>4.6961</td>\n",
              "    </tr>\n",
              "    <tr>\n",
              "      <th>3</th>\n",
              "      <td>Bream</td>\n",
              "      <td>363.0</td>\n",
              "      <td>29.0</td>\n",
              "      <td>33.5</td>\n",
              "      <td>12.7300</td>\n",
              "      <td>4.4555</td>\n",
              "    </tr>\n",
              "    <tr>\n",
              "      <th>4</th>\n",
              "      <td>Bream</td>\n",
              "      <td>430.0</td>\n",
              "      <td>29.0</td>\n",
              "      <td>34.0</td>\n",
              "      <td>12.4440</td>\n",
              "      <td>5.1340</td>\n",
              "    </tr>\n",
              "  </tbody>\n",
              "</table>\n",
              "</div>\n",
              "      <button class=\"colab-df-convert\" onclick=\"convertToInteractive('df-f6ed6443-1e5a-4dec-aae8-82844ce68a9b')\"\n",
              "              title=\"Convert this dataframe to an interactive table.\"\n",
              "              style=\"display:none;\">\n",
              "        \n",
              "  <svg xmlns=\"http://www.w3.org/2000/svg\" height=\"24px\"viewBox=\"0 0 24 24\"\n",
              "       width=\"24px\">\n",
              "    <path d=\"M0 0h24v24H0V0z\" fill=\"none\"/>\n",
              "    <path d=\"M18.56 5.44l.94 2.06.94-2.06 2.06-.94-2.06-.94-.94-2.06-.94 2.06-2.06.94zm-11 1L8.5 8.5l.94-2.06 2.06-.94-2.06-.94L8.5 2.5l-.94 2.06-2.06.94zm10 10l.94 2.06.94-2.06 2.06-.94-2.06-.94-.94-2.06-.94 2.06-2.06.94z\"/><path d=\"M17.41 7.96l-1.37-1.37c-.4-.4-.92-.59-1.43-.59-.52 0-1.04.2-1.43.59L10.3 9.45l-7.72 7.72c-.78.78-.78 2.05 0 2.83L4 21.41c.39.39.9.59 1.41.59.51 0 1.02-.2 1.41-.59l7.78-7.78 2.81-2.81c.8-.78.8-2.07 0-2.86zM5.41 20L4 18.59l7.72-7.72 1.47 1.35L5.41 20z\"/>\n",
              "  </svg>\n",
              "      </button>\n",
              "      \n",
              "  <style>\n",
              "    .colab-df-container {\n",
              "      display:flex;\n",
              "      flex-wrap:wrap;\n",
              "      gap: 12px;\n",
              "    }\n",
              "\n",
              "    .colab-df-convert {\n",
              "      background-color: #E8F0FE;\n",
              "      border: none;\n",
              "      border-radius: 50%;\n",
              "      cursor: pointer;\n",
              "      display: none;\n",
              "      fill: #1967D2;\n",
              "      height: 32px;\n",
              "      padding: 0 0 0 0;\n",
              "      width: 32px;\n",
              "    }\n",
              "\n",
              "    .colab-df-convert:hover {\n",
              "      background-color: #E2EBFA;\n",
              "      box-shadow: 0px 1px 2px rgba(60, 64, 67, 0.3), 0px 1px 3px 1px rgba(60, 64, 67, 0.15);\n",
              "      fill: #174EA6;\n",
              "    }\n",
              "\n",
              "    [theme=dark] .colab-df-convert {\n",
              "      background-color: #3B4455;\n",
              "      fill: #D2E3FC;\n",
              "    }\n",
              "\n",
              "    [theme=dark] .colab-df-convert:hover {\n",
              "      background-color: #434B5C;\n",
              "      box-shadow: 0px 1px 3px 1px rgba(0, 0, 0, 0.15);\n",
              "      filter: drop-shadow(0px 1px 2px rgba(0, 0, 0, 0.3));\n",
              "      fill: #FFFFFF;\n",
              "    }\n",
              "  </style>\n",
              "\n",
              "      <script>\n",
              "        const buttonEl =\n",
              "          document.querySelector('#df-f6ed6443-1e5a-4dec-aae8-82844ce68a9b button.colab-df-convert');\n",
              "        buttonEl.style.display =\n",
              "          google.colab.kernel.accessAllowed ? 'block' : 'none';\n",
              "\n",
              "        async function convertToInteractive(key) {\n",
              "          const element = document.querySelector('#df-f6ed6443-1e5a-4dec-aae8-82844ce68a9b');\n",
              "          const dataTable =\n",
              "            await google.colab.kernel.invokeFunction('convertToInteractive',\n",
              "                                                     [key], {});\n",
              "          if (!dataTable) return;\n",
              "\n",
              "          const docLinkHtml = 'Like what you see? Visit the ' +\n",
              "            '<a target=\"_blank\" href=https://colab.research.google.com/notebooks/data_table.ipynb>data table notebook</a>'\n",
              "            + ' to learn more about interactive tables.';\n",
              "          element.innerHTML = '';\n",
              "          dataTable['output_type'] = 'display_data';\n",
              "          await google.colab.output.renderOutput(dataTable, element);\n",
              "          const docLink = document.createElement('div');\n",
              "          docLink.innerHTML = docLinkHtml;\n",
              "          element.appendChild(docLink);\n",
              "        }\n",
              "      </script>\n",
              "    </div>\n",
              "  </div>\n",
              "  "
            ]
          },
          "metadata": {},
          "execution_count": 14
        }
      ],
      "source": [
        "import pandas as pd\n",
        "\n",
        "fish = pd.read_csv('https://bit.ly/fish_csv_data')\n",
        "fish.head()"
      ]
    },
    {
      "cell_type": "code",
      "source": [
        "# species\n",
        "print(pd.unique(fish['Species']))"
      ],
      "metadata": {
        "colab": {
          "base_uri": "https://localhost:8080/"
        },
        "id": "1SG05-8O3Fg-",
        "outputId": "f949abb4-2310-4956-a474-7acd23ddb047"
      },
      "execution_count": 15,
      "outputs": [
        {
          "output_type": "stream",
          "name": "stdout",
          "text": [
            "['Bream' 'Roach' 'Whitefish' 'Parkki' 'Perch' 'Pike' 'Smelt']\n"
          ]
        }
      ]
    },
    {
      "cell_type": "code",
      "source": [
        "# 입력 데이터 배열로 저장\n",
        "fish_input = fish[['Weight','Length','Diagonal','Height','Width']].to_numpy()"
      ],
      "metadata": {
        "id": "ivaBwpt4c6Ci"
      },
      "execution_count": 16,
      "outputs": []
    },
    {
      "cell_type": "code",
      "source": [
        "print(fish_input[:5])"
      ],
      "metadata": {
        "colab": {
          "base_uri": "https://localhost:8080/"
        },
        "id": "8uW3Ww6VdH23",
        "outputId": "43a1ec65-f9f7-4355-a761-91e1a2adeced"
      },
      "execution_count": 17,
      "outputs": [
        {
          "output_type": "stream",
          "name": "stdout",
          "text": [
            "[[242.      25.4     30.      11.52     4.02  ]\n",
            " [290.      26.3     31.2     12.48     4.3056]\n",
            " [340.      26.5     31.1     12.3778   4.6961]\n",
            " [363.      29.      33.5     12.73     4.4555]\n",
            " [430.      29.      34.      12.444    5.134 ]]\n"
          ]
        }
      ]
    },
    {
      "cell_type": "code",
      "source": [
        "# 타킷 데이터 배열로 저장\n",
        "fish_target = fish['Species'].to_numpy()"
      ],
      "metadata": {
        "id": "zcLET0podKhP"
      },
      "execution_count": 18,
      "outputs": []
    },
    {
      "cell_type": "code",
      "source": [
        "# 훈련세트, 테스트 세트 분류\n",
        "from sklearn.model_selection import train_test_split\n",
        "\n",
        "train_input, test_input, train_target, test_target = train_test_split(\n",
        "    fish_input, fish_target, random_state =42\n",
        ")"
      ],
      "metadata": {
        "id": "WYQ9BiEOdo00"
      },
      "execution_count": 19,
      "outputs": []
    },
    {
      "cell_type": "code",
      "source": [
        "# 표준화처리\n",
        "from sklearn.preprocessing import StandardScaler\n",
        "ss = StandardScaler()\n",
        "ss.fit(train_input)\n",
        "train_scaled = ss.transform(train_input)\n",
        "test_scaled = ss.transform(test_input)"
      ],
      "metadata": {
        "id": "YoDsYphldo3L"
      },
      "execution_count": 20,
      "outputs": []
    },
    {
      "cell_type": "markdown",
      "source": [
        "## K-최근접 이웃 분류기의 확률예측\n",
        "\n",
        "-**다중 분류**"
      ],
      "metadata": {
        "id": "pMscPqKKemCH"
      }
    },
    {
      "cell_type": "code",
      "source": [
        "from sklearn.neighbors import KNeighborsClassifier\n",
        "\n",
        "kn= KNeighborsClassifier(n_neighbors=3)\n",
        "kn.fit(train_scaled, train_target)\n",
        "print(kn.score(train_scaled, train_target))\n",
        "print(kn.score(test_scaled, test_target))"
      ],
      "metadata": {
        "colab": {
          "base_uri": "https://localhost:8080/"
        },
        "id": "4rDtIJmoeX5-",
        "outputId": "3b07b382-2463-45c3-fed6-0e2b467fd384"
      },
      "execution_count": 21,
      "outputs": [
        {
          "output_type": "stream",
          "name": "stdout",
          "text": [
            "0.8907563025210085\n",
            "0.85\n"
          ]
        }
      ]
    },
    {
      "cell_type": "markdown",
      "source": [
        "### 다중 분류 multi-class classificaiton\n",
        ": 타킷 데이터에 2개이상의 클래스가 포함 (알파뱃 순으로 자동정렬)\n",
        "\n",
        "\n",
        "클래스확인\n",
        "\n",
        "```\n",
        "kn.classes_\n",
        "```\n",
        "클래스별 확률값 구하기\n",
        "```\n",
        "kn.predict_proba()\n",
        "```"
      ],
      "metadata": {
        "id": "PILbZmjAfa6Y"
      }
    },
    {
      "cell_type": "code",
      "source": [
        "# 클래스  확인\n",
        "print(kn.classes_)"
      ],
      "metadata": {
        "colab": {
          "base_uri": "https://localhost:8080/"
        },
        "id": "YcMLzyrpe_BG",
        "outputId": "3e7133e9-ff36-428a-d46e-437345fb4dbd"
      },
      "execution_count": 22,
      "outputs": [
        {
          "output_type": "stream",
          "name": "stdout",
          "text": [
            "['Bream' 'Parkki' 'Perch' 'Pike' 'Roach' 'Smelt' 'Whitefish']\n"
          ]
        }
      ]
    },
    {
      "cell_type": "code",
      "source": [
        "print(kn.predict(test_scaled[:5]))"
      ],
      "metadata": {
        "colab": {
          "base_uri": "https://localhost:8080/"
        },
        "id": "Jg9BeE1ido6J",
        "outputId": "8f213904-0859-4730-ddb7-fa29f06d36ec"
      },
      "execution_count": 23,
      "outputs": [
        {
          "output_type": "stream",
          "name": "stdout",
          "text": [
            "['Perch' 'Smelt' 'Pike' 'Perch' 'Perch']\n"
          ]
        }
      ]
    },
    {
      "cell_type": "code",
      "source": [
        "# 클래스 별 확률 구하기\n",
        "import numpy as np\n",
        "proba = kn.predict_proba(test_scaled[:5])\n",
        "# 소수점 4번째 자리까지 반올림하여 표기\n",
        "print(np.round(proba, decimals=4))"
      ],
      "metadata": {
        "colab": {
          "base_uri": "https://localhost:8080/"
        },
        "id": "qW07ng4dgais",
        "outputId": "caab18df-9f42-4b5c-f53c-d17ebe6ef18c"
      },
      "execution_count": 24,
      "outputs": [
        {
          "output_type": "stream",
          "name": "stdout",
          "text": [
            "[[0.     0.     1.     0.     0.     0.     0.    ]\n",
            " [0.     0.     0.     0.     0.     1.     0.    ]\n",
            " [0.     0.     0.     1.     0.     0.     0.    ]\n",
            " [0.     0.     0.6667 0.     0.3333 0.     0.    ]\n",
            " [0.     0.     0.6667 0.     0.3333 0.     0.    ]]\n"
          ]
        }
      ]
    },
    {
      "cell_type": "code",
      "source": [
        "# 최근접 이웃 확인하기\n",
        "distances, indexes = kn.kneighbors(test_scaled[3:4])"
      ],
      "metadata": {
        "id": "x1IB6iI_galJ"
      },
      "execution_count": 25,
      "outputs": []
    },
    {
      "cell_type": "markdown",
      "source": [
        "## 시그모이드 함수 sigmoid funcition\n",
        "( 로지스틱 함수 logistic function)\n",
        "\n",
        "Z값을 0~1 사이로 변환시킨다.\n",
        "\n",
        "Z= lr.decision_function(x) : 양성 클래스에 대한 z값 \n",
        "\n",
        "**expit(Z)** : z값에 대한 확률 출력"
      ],
      "metadata": {
        "id": "1glOXcwWlzIB"
      }
    },
    {
      "cell_type": "markdown",
      "source": [
        "![post.jpg](data:image/jpeg;base64,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)"
      ],
      "metadata": {
        "id": "uH9IuLnsqGcL"
      }
    },
    {
      "cell_type": "code",
      "source": [
        "# 시그모이드 함수 계산\n",
        "\n",
        "import numpy as np\n",
        "import matplotlib.pyplot as plt\n",
        "z = np.arange(-5,5,0.1)\n",
        "phi = 1/(1+np.exp(-z))\n",
        "plt.plot(z,phi)\n",
        "plt.xlabel('z')\n",
        "plt.ylabel('phi')\n",
        "plt.show()"
      ],
      "metadata": {
        "colab": {
          "base_uri": "https://localhost:8080/",
          "height": 279
        },
        "id": "alOYAG21pq8q",
        "outputId": "96e2304f-011d-4e40-eb80-4cfe3fb8f204"
      },
      "execution_count": 26,
      "outputs": [
        {
          "output_type": "display_data",
          "data": {
            "text/plain": [
              "<Figure size 432x288 with 1 Axes>"
            ],
            "image/png": "[encoded data removed]"
          },
          "metadata": {
            "needs_background": "light"
          }
        }
      ]
    },
    {
      "cell_type": "code",
      "source": [],
      "metadata": {
        "id": "zvz8qM5AqaOo"
      },
      "execution_count": 26,
      "outputs": []
    },
    {
      "cell_type": "markdown",
      "source": [
        "## 로지스틱 회귀로 이진 분류 수행하기"
      ],
      "metadata": {
        "id": "96k2-DvHqmYa"
      }
    },
    {
      "cell_type": "markdown",
      "source": [
        "** 1.불리언 인덱싱 boolean indexing**\n",
        "\n",
        ": 넘파이 배열로 True, False 값을 전달하여 행을 선택\n",
        "\n",
        "\n",
        "** 2. z값 계산 **\n",
        "```\n",
        "lr.decision_function()\n",
        "```"
      ],
      "metadata": {
        "id": "e5IoDPddrf2S"
      }
    },
    {
      "cell_type": "code",
      "source": [
        "# 불리언 인덱싱 예제\n",
        "char_arr = np.array(['A','B','C','D','E'])\n",
        "print(char_arr[[True,False,True,False,False]])"
      ],
      "metadata": {
        "colab": {
          "base_uri": "https://localhost:8080/"
        },
        "id": "pHpcdy11rb0U",
        "outputId": "21c53a1c-92d7-41de-f349-f3229e1c95b6"
      },
      "execution_count": 27,
      "outputs": [
        {
          "output_type": "stream",
          "name": "stdout",
          "text": [
            "['A' 'C']\n"
          ]
        }
      ]
    },
    {
      "cell_type": "code",
      "source": [
        "# 도미와 빙어 행을 True로 하는 불리언 인덱싱 만들기\n",
        "bream_smelt_indexes = (train_target =='Bream')| (train_target =='Smelt')\n",
        "# 도미와 빙어만 출력\n",
        "train_bream_smelt = train_scaled[bream_smelt_indexes]\n",
        "target_bream_smelt = train_target[bream_smelt_indexes]"
      ],
      "metadata": {
        "id": "0QfonL4tr7CB"
      },
      "execution_count": 28,
      "outputs": []
    },
    {
      "cell_type": "code",
      "source": [
        "# 모델 훈련하기\n",
        "from sklearn.linear_model import LogisticRegression\n",
        "lr = LogisticRegression()\n",
        "lr.fit(train_bream_smelt, target_bream_smelt)\n",
        "\n",
        "# 훈련샘플 5개 예측\n",
        "print(lr.predict(train_bream_smelt[:5]))\n",
        "\n",
        "#예측 확률 구하기\n",
        "print(lr.predict_proba(train_bream_smelt[:5]))"
      ],
      "metadata": {
        "colab": {
          "base_uri": "https://localhost:8080/"
        },
        "id": "XEw_5zI5tLmT",
        "outputId": "1df0d11a-3f04-4ecb-dee9-52a59e7a1c4d"
      },
      "execution_count": 29,
      "outputs": [
        {
          "output_type": "stream",
          "name": "stdout",
          "text": [
            "['Bream' 'Smelt' 'Bream' 'Bream' 'Bream']\n",
            "[[0.99759855 0.00240145]\n",
            " [0.02735183 0.97264817]\n",
            " [0.99486072 0.00513928]\n",
            " [0.98584202 0.01415798]\n",
            " [0.99767269 0.00232731]]\n"
          ]
        }
      ]
    },
    {
      "cell_type": "code",
      "source": [
        "# 클래스 확인\n",
        "print(lr.classes_)"
      ],
      "metadata": {
        "colab": {
          "base_uri": "https://localhost:8080/"
        },
        "id": "kKkxmyJStsnM",
        "outputId": "b7b8c99b-afce-4090-999f-374ef2ace49a"
      },
      "execution_count": 30,
      "outputs": [
        {
          "output_type": "stream",
          "name": "stdout",
          "text": [
            "['Bream' 'Smelt']\n"
          ]
        }
      ]
    },
    {
      "cell_type": "code",
      "source": [
        "#학습 변수 확인\n",
        "print(lr.coef_, lr.intercept_)"
      ],
      "metadata": {
        "colab": {
          "base_uri": "https://localhost:8080/"
        },
        "id": "LCTjaQMHtrQ3",
        "outputId": "85175f17-b2cd-4b9f-96a7-29f7b33ca0fd"
      },
      "execution_count": 31,
      "outputs": [
        {
          "output_type": "stream",
          "name": "stdout",
          "text": [
            "[[-0.4037798  -0.57620209 -0.66280298 -1.01290277 -0.73168947]] [-2.16155132]\n"
          ]
        }
      ]
    },
    {
      "cell_type": "markdown",
      "source": [
        "z 값 구하기 : decision_function()"
      ],
      "metadata": {
        "id": "AD5IM5h-vX7b"
      }
    },
    {
      "cell_type": "code",
      "source": [
        "# 첫 5개 샘플의 z-score\n",
        "decisions = lr.decision_function(train_bream_smelt[:5])\n",
        "print(decisions)"
      ],
      "metadata": {
        "colab": {
          "base_uri": "https://localhost:8080/"
        },
        "id": "p6H78XtVt8en",
        "outputId": "2a49e760-d497-4971-b4bf-5fa80b99abf6"
      },
      "execution_count": 32,
      "outputs": [
        {
          "output_type": "stream",
          "name": "stdout",
          "text": [
            "[-6.02927744  3.57123907 -5.26568906 -4.24321775 -6.0607117 ]\n"
          ]
        }
      ]
    },
    {
      "cell_type": "code",
      "source": [
        "from scipy.special import expit\n",
        "print(expit(decisions))"
      ],
      "metadata": {
        "colab": {
          "base_uri": "https://localhost:8080/"
        },
        "id": "r9WCtvqiGt5k",
        "outputId": "2c24cd9c-ea42-49a5-9500-b6e2dbf42263"
      },
      "execution_count": 33,
      "outputs": [
        {
          "output_type": "stream",
          "name": "stdout",
          "text": [
            "[0.00240145 0.97264817 0.00513928 0.01415798 0.00232731]\n"
          ]
        }
      ]
    },
    {
      "cell_type": "markdown",
      "source": [
        "##로지스틱 회귀로 다중분류 수행하기\n",
        "\n",
        "\n",
        ": 다중 분류는 이진 분류와 달리 소프트 맥스 함수를 사용하여 z값을 확률로 변환 \n",
        "\n",
        "가장 높은 z값의 클래스가 예측 클래스가 된다\n",
        "\n",
        "**소프트 맥스(softmax)**\n",
        "(정규화지수 함수)\n",
        "```\n",
        "from scipy.special import softmax\n",
        "proba = softmax(Z, axis =1)\n",
        "```"
      ],
      "metadata": {
        "id": "ytIQAtn2wBcc"
      }
    },
    {
      "cell_type": "markdown",
      "source": [
        "### 모델 "
      ],
      "metadata": {
        "id": "X-zGfkE82OnF"
      }
    },
    {
      "cell_type": "code",
      "source": [
        "# 모델 생성 및 학습\n",
        "lr = LogisticRegression( C =20, max_iter = 1000)\n",
        "lr.fit(train_scaled, train_target)\n",
        "# 훈련 점수와 테스트 점수 확인\n",
        "print(lr.score(train_scaled, train_target))\n",
        "print(lr.score(test_scaled, test_target))"
      ],
      "metadata": {
        "colab": {
          "base_uri": "https://localhost:8080/"
        },
        "id": "QykarqQ7wBJr",
        "outputId": "d51c93b1-1f37-4202-c8e3-4b9ad6f9f89b"
      },
      "execution_count": 34,
      "outputs": [
        {
          "output_type": "stream",
          "name": "stdout",
          "text": [
            "0.9327731092436975\n",
            "0.925\n"
          ]
        }
      ]
    },
    {
      "cell_type": "code",
      "source": [
        "# 테스트 세트의 처음 5개 샘플 예측\n",
        "print(lr.predict(test_scaled[:5]))"
      ],
      "metadata": {
        "colab": {
          "base_uri": "https://localhost:8080/"
        },
        "id": "4Hr5S6zSwAFM",
        "outputId": "7ea28260-f514-4fb9-e4b4-c0d29bce5fc9"
      },
      "execution_count": 35,
      "outputs": [
        {
          "output_type": "stream",
          "name": "stdout",
          "text": [
            "['Perch' 'Smelt' 'Pike' 'Roach' 'Perch']\n"
          ]
        }
      ]
    },
    {
      "cell_type": "code",
      "source": [
        "#5개 샘플에 대한 예측확률\n",
        "proba = lr.predict_proba(test_scaled[:5])\n",
        "#소수점 3번째자리까지 반올림하여 출력\n",
        "print(np.round(proba,decimals=3))"
      ],
      "metadata": {
        "colab": {
          "base_uri": "https://localhost:8080/"
        },
        "id": "UCGyHEDVz27L",
        "outputId": "035f5a66-6159-429d-a97a-45ffee17e548"
      },
      "execution_count": 36,
      "outputs": [
        {
          "output_type": "stream",
          "name": "stdout",
          "text": [
            "[[0.    0.014 0.841 0.    0.136 0.007 0.003]\n",
            " [0.    0.003 0.044 0.    0.007 0.946 0.   ]\n",
            " [0.    0.    0.034 0.935 0.015 0.016 0.   ]\n",
            " [0.011 0.034 0.306 0.007 0.567 0.    0.076]\n",
            " [0.    0.    0.904 0.002 0.089 0.002 0.001]]\n"
          ]
        }
      ]
    },
    {
      "cell_type": "code",
      "source": [
        "# 클래스 정보 확인\n",
        "print(lr.classes_)"
      ],
      "metadata": {
        "colab": {
          "base_uri": "https://localhost:8080/"
        },
        "id": "4R8A5iEj0HBP",
        "outputId": "1e8d77dd-a990-4a43-81c0-355fbbf45db6"
      },
      "execution_count": 37,
      "outputs": [
        {
          "output_type": "stream",
          "name": "stdout",
          "text": [
            "['Bream' 'Parkki' 'Perch' 'Pike' 'Roach' 'Smelt' 'Whitefish']\n"
          ]
        }
      ]
    },
    {
      "cell_type": "code",
      "source": [
        "# 학습 변수 확인\n",
        "print(lr.coef_.shape, lr.intercept_.shape)"
      ],
      "metadata": {
        "colab": {
          "base_uri": "https://localhost:8080/"
        },
        "id": "HFW7hsVUtpf8",
        "outputId": "f4de6f53-4caf-4389-c92f-9fa4b4b91e68"
      },
      "execution_count": 38,
      "outputs": [
        {
          "output_type": "stream",
          "name": "stdout",
          "text": [
            "(7, 5) (7,)\n"
          ]
        }
      ]
    },
    {
      "cell_type": "markdown",
      "source": [
        "### 소프트 맥스 \n",
        "\n",
        "클래스의 수 가 n 개일때\n",
        "\n",
        "각 클래스 $C_1,C_2,...,C_n$ 에 대한 z값을 $z_1,z_2,...,z_n$이라고 하자\n",
        "\n",
        "$e_{sum}$ = $e^ {z_1} + e^{z_2} + ...+ e^{z_n}$\n",
        "\n",
        "$s_1 = \\frac{e^{z_1}}{e_{sum}, } $\n",
        "$s_2 = \\frac{e^{z_2}}{e_{sum}, } $\n",
        "..., $s_n = \\frac{e^{z_{n}}}{e_{sum}, } $\n",
        "\n",
        "각 s 값을 모두 더하면 1이 된다\n"
      ],
      "metadata": {
        "id": "9XvSnluj10nc"
      }
    },
    {
      "cell_type": "code",
      "source": [
        " # 5개 샘플에 대한 z1~z7값 구하기\n",
        " decision = lr.decision_function(test_scaled[:5])\n",
        "# z-score 소수점 2 번째 자리까지 반올림하여 출력\n",
        " print(np.round(decision,decimals=2))"
      ],
      "metadata": {
        "colab": {
          "base_uri": "https://localhost:8080/"
        },
        "id": "xp8QU_6t3z0p",
        "outputId": "63ba6615-639a-49cd-ed0a-a8b26d72d81f"
      },
      "execution_count": 39,
      "outputs": [
        {
          "output_type": "stream",
          "name": "stdout",
          "text": [
            "[[ -6.5    1.03   5.16  -2.73   3.34   0.33  -0.63]\n",
            " [-10.86   1.93   4.77  -2.4    2.98   7.84  -4.26]\n",
            " [ -4.34  -6.23   3.17   6.49   2.36   2.42  -3.87]\n",
            " [ -0.68   0.45   2.65  -1.19   3.26  -5.75   1.26]\n",
            " [ -6.4   -1.99   5.82  -0.11   3.5   -0.11  -0.71]]\n"
          ]
        }
      ]
    },
    {
      "cell_type": "code",
      "source": [
        "# 소프트 맥스를 통해 확률 구하기\n",
        "from scipy.special import softmax\n",
        "\n",
        "proba = softmax(decision, axis=1)\n",
        "# 확률 소수점 3번째 자리까지 출력\n",
        "print(np.round(proba,decimals=3))"
      ],
      "metadata": {
        "colab": {
          "base_uri": "https://localhost:8080/"
        },
        "id": "_-td8U8M23Ct",
        "outputId": "cf7eef40-a067-44b1-dc8b-bf87d2a59ccc"
      },
      "execution_count": 40,
      "outputs": [
        {
          "output_type": "stream",
          "name": "stdout",
          "text": [
            "[[0.    0.014 0.841 0.    0.136 0.007 0.003]\n",
            " [0.    0.003 0.044 0.    0.007 0.946 0.   ]\n",
            " [0.    0.    0.034 0.935 0.015 0.016 0.   ]\n",
            " [0.011 0.034 0.306 0.007 0.567 0.    0.076]\n",
            " [0.    0.    0.904 0.002 0.089 0.002 0.001]]\n"
          ]
        }
      ]
    },
    {
      "cell_type": "code",
      "source": [
        "# 총합이 1인지 확인\n",
        "for n in range(0,5):\n",
        "  total_prob = proba[n].sum()\n",
        "  print(total_prob)"
      ],
      "metadata": {
        "colab": {
          "base_uri": "https://localhost:8080/"
        },
        "id": "9K9wrFpWB5un",
        "outputId": "f17ad14c-3209-41ce-c0a5-9775c3386982"
      },
      "execution_count": 41,
      "outputs": [
        {
          "output_type": "stream",
          "name": "stdout",
          "text": [
            "1.0\n",
            "1.0000000000000002\n",
            "1.0000000000000002\n",
            "0.9999999999999999\n",
            "1.0000000000000004\n"
          ]
        }
      ]
    }
  ]
}