{
  "nbformat": 4,
  "nbformat_minor": 0,
  "metadata": {
    "colab": {
      "provenance": [],
      "collapsed_sections": [
        "QjAxZ0HsVs_t",
        "kClRcGfYati4",
        "wqqHWVSDiQ6x",
        "_otLiFXQj4KI"
      ],
      "authorship_tag": "ABX9TyNPAydAiM8rE6+vBX6OD0H5",
      "include_colab_link": true
    },
    "kernelspec": {
      "name": "python3",
      "display_name": "Python 3"
    },
    "language_info": {
      "name": "python"
    }
  },
  "cells": [
    {
      "cell_type": "markdown",
      "metadata": {
        "id": "view-in-github",
        "colab_type": "text"
      },
      "source": [
        "<a href=\"https://colab.research.google.com/github/hwan95/HonegongML/blob/main/CH3_Regression2.ipynb\" target=\"_parent\"><img src=\"https://colab.research.google.com/assets/colab-badge.svg\" alt=\"Open In Colab\"/></a>"
      ]
    },
    {
      "cell_type": "markdown",
      "source": [
        "#다중회귀 multiple regression\n",
        "\n",
        ": 여러 개의 특성을 사용한 선형회귀"
      ],
      "metadata": {
        "id": "Rmig7x9ZVKsf"
      }
    },
    {
      "cell_type": "markdown",
      "source": [
        "특성 공학 feature engineering\n",
        ": 기존의 특성을 사용해 새로운 특성을 뽑아내는 작업"
      ],
      "metadata": {
        "id": "HwpI5gVSVgQi"
      }
    },
    {
      "cell_type": "markdown",
      "source": [
        "##데이터 준비"
      ],
      "metadata": {
        "id": "QjAxZ0HsVs_t"
      }
    },
    {
      "cell_type": "code",
      "execution_count": null,
      "metadata": {
        "colab": {
          "base_uri": "https://localhost:8080/"
        },
        "id": "XVGXvtsjU8ds",
        "outputId": "63ede7ae-5701-4a25-87e2-48aed9803e26"
      },
      "outputs": [
        {
          "output_type": "stream",
          "name": "stdout",
          "text": [
            "[[ 8.4   2.11  1.41]\n",
            " [13.7   3.53  2.  ]\n",
            " [15.    3.82  2.43]\n",
            " [16.2   4.59  2.63]\n",
            " [17.4   4.59  2.94]\n",
            " [18.    5.22  3.32]\n",
            " [18.7   5.2   3.12]\n",
            " [19.    5.64  3.05]\n",
            " [19.6   5.14  3.04]\n",
            " [20.    5.08  2.77]\n",
            " [21.    5.69  3.56]\n",
            " [21.    5.92  3.31]\n",
            " [21.    5.69  3.67]\n",
            " [21.3   6.38  3.53]\n",
            " [22.    6.11  3.41]\n",
            " [22.    5.64  3.52]\n",
            " [22.    6.11  3.52]\n",
            " [22.    5.88  3.52]\n",
            " [22.    5.52  4.  ]\n",
            " [22.5   5.86  3.62]\n",
            " [22.5   6.79  3.62]\n",
            " [22.7   5.95  3.63]\n",
            " [23.    5.22  3.63]\n",
            " [23.5   6.28  3.72]\n",
            " [24.    7.29  3.72]\n",
            " [24.    6.38  3.82]\n",
            " [24.6   6.73  4.17]\n",
            " [25.    6.44  3.68]\n",
            " [25.6   6.56  4.24]\n",
            " [26.5   7.17  4.14]\n",
            " [27.3   8.32  5.14]\n",
            " [27.5   7.17  4.34]\n",
            " [27.5   7.05  4.34]\n",
            " [27.5   7.28  4.57]\n",
            " [28.    7.82  4.2 ]\n",
            " [28.7   7.59  4.64]\n",
            " [30.    7.62  4.77]\n",
            " [32.8  10.03  6.02]\n",
            " [34.5  10.26  6.39]\n",
            " [35.   11.49  7.8 ]\n",
            " [36.5  10.88  6.86]\n",
            " [36.   10.61  6.74]\n",
            " [37.   10.84  6.26]\n",
            " [37.   10.57  6.37]\n",
            " [39.   11.14  7.49]\n",
            " [39.   11.14  6.  ]\n",
            " [39.   12.43  7.35]\n",
            " [40.   11.93  7.11]\n",
            " [40.   11.73  7.22]\n",
            " [40.   12.38  7.46]\n",
            " [40.   11.14  6.63]\n",
            " [42.   12.8   6.87]\n",
            " [43.   11.93  7.28]\n",
            " [43.   12.51  7.42]\n",
            " [43.5  12.6   8.14]\n",
            " [44.   12.49  7.6 ]]\n"
          ]
        }
      ],
      "source": [
        "import pandas as pd\n",
        "df = pd.read_csv('https://bit.ly/perch_csv_data')\n",
        "perch_full = df.to_numpy()\n",
        "print(perch_full)"
      ]
    },
    {
      "cell_type": "code",
      "source": [
        "import numpy as np\n",
        "\n",
        "perch_weight = np.array([5.9, 32.0, 40.0, 51.5, 70.0, 100.0, 78.0, 80.0, 85.0, 85.0, 110.0,\n",
        "       115.0, 125.0, 130.0, 120.0, 120.0, 130.0, 135.0, 110.0, 130.0,\n",
        "       150.0, 145.0, 150.0, 170.0, 225.0, 145.0, 188.0, 180.0, 197.0,\n",
        "       218.0, 300.0, 260.0, 265.0, 250.0, 250.0, 300.0, 320.0, 514.0,\n",
        "       556.0, 840.0, 685.0, 700.0, 700.0, 690.0, 900.0, 650.0, 820.0,\n",
        "       850.0, 900.0, 1015.0, 820.0, 1100.0, 1000.0, 1100.0, 1000.0,\n",
        "       1000.0])"
      ],
      "metadata": {
        "id": "vl7amE0EWSfh"
      },
      "execution_count": null,
      "outputs": []
    },
    {
      "cell_type": "code",
      "source": [
        "from sklearn.model_selection import train_test_split\n",
        "\n",
        "train_input, test_input, train_target, test_target = train_test_split(\n",
        "    perch_full, perch_weight, random_state = 42\n",
        ")"
      ],
      "metadata": {
        "id": "zv9WD-jsWtRW"
      },
      "execution_count": null,
      "outputs": []
    },
    {
      "cell_type": "markdown",
      "source": [
        "## 변환기 transformer : 특성을 만들거나 전처리\n",
        "\n",
        "**from sklearn.preprocessing import PolynomialFeatures**\n"
      ],
      "metadata": {
        "id": "GBdFPD0gW8zH"
      }
    },
    {
      "cell_type": "code",
      "source": [
        "from sklearn.preprocessing import PolynomialFeatures"
      ],
      "metadata": {
        "id": "XdCiW8AvXtdw"
      },
      "execution_count": null,
      "outputs": []
    },
    {
      "cell_type": "code",
      "source": [
        "poly = PolynomialFeatures()\n",
        "poly.fit([[2,3]])\n",
        "print(poly.transform([[2,3]]))"
      ],
      "metadata": {
        "colab": {
          "base_uri": "https://localhost:8080/"
        },
        "id": "37nN0yoTW5s3",
        "outputId": "bfec8c59-ee6e-4315-ae99-304967836843"
      },
      "execution_count": null,
      "outputs": [
        {
          "output_type": "stream",
          "name": "stdout",
          "text": [
            "[[1. 2. 3. 4. 6. 9.]]\n"
          ]
        }
      ]
    },
    {
      "cell_type": "markdown",
      "source": [
        "poly.transform([[a,b]])\n",
        "=[[1,a,b,a**2,b**2,ab]]\n",
        "\n",
        "1은 y 절편 // 선형 모델은 자동으로 절편을 추가하니 필요없다\n",
        "이런경우 include_bias = False 지정\n"
      ],
      "metadata": {
        "id": "QnPlPMgIYCF4"
      }
    },
    {
      "cell_type": "code",
      "source": [
        "poly = PolynomialFeatures(include_bias =False)\n",
        "poly.fit([[2,3]])\n",
        "print(poly.transform([[2,3]]))"
      ],
      "metadata": {
        "colab": {
          "base_uri": "https://localhost:8080/"
        },
        "id": "t8rGyMB_Xoza",
        "outputId": "cb500a8e-9568-4ed0-c459-f8249926a5e7"
      },
      "execution_count": null,
      "outputs": [
        {
          "output_type": "stream",
          "name": "stdout",
          "text": [
            "[[2. 3. 4. 6. 9.]]\n"
          ]
        }
      ]
    },
    {
      "cell_type": "code",
      "source": [
        "poly = PolynomialFeatures(include_bias= False)\n",
        "poly.fit(train_input)\n",
        "train_poly = poly.transform(train_input)\n",
        "print(train_poly.shape)"
      ],
      "metadata": {
        "colab": {
          "base_uri": "https://localhost:8080/"
        },
        "id": "J32maEGKZUV5",
        "outputId": "116091e5-a0f3-4fc7-dc71-94090322c112"
      },
      "execution_count": null,
      "outputs": [
        {
          "output_type": "stream",
          "name": "stdout",
          "text": [
            "(42, 9)\n"
          ]
        }
      ]
    },
    {
      "cell_type": "markdown",
      "source": [
        "get_featrue_names() : 특성의 조합 확인"
      ],
      "metadata": {
        "id": "E3bnEUikaZHw"
      }
    },
    {
      "cell_type": "code",
      "source": [
        "poly.get_feature_names()"
      ],
      "metadata": {
        "colab": {
          "base_uri": "https://localhost:8080/"
        },
        "id": "eLeDiCpgaV_I",
        "outputId": "9dbb3a73-6266-49b4-860c-7bb632e01634"
      },
      "execution_count": null,
      "outputs": [
        {
          "output_type": "stream",
          "name": "stderr",
          "text": [
            "/usr/local/lib/python3.8/dist-packages/sklearn/utils/deprecation.py:87: FutureWarning: Function get_feature_names is deprecated; get_feature_names is deprecated in 1.0 and will be removed in 1.2. Please use get_feature_names_out instead.\n",
            "  warnings.warn(msg, category=FutureWarning)\n"
          ]
        },
        {
          "output_type": "execute_result",
          "data": {
            "text/plain": [
              "['x0', 'x1', 'x2', 'x0^2', 'x0 x1', 'x0 x2', 'x1^2', 'x1 x2', 'x2^2']"
            ]
          },
          "metadata": {},
          "execution_count": 8
        }
      ]
    },
    {
      "cell_type": "code",
      "source": [
        "test_poly = poly.transform(test_input)"
      ],
      "metadata": {
        "id": "AYcJk-4AagNO"
      },
      "execution_count": null,
      "outputs": []
    },
    {
      "cell_type": "markdown",
      "source": [
        "## 모델 훈련하기"
      ],
      "metadata": {
        "id": "kClRcGfYati4"
      }
    },
    {
      "cell_type": "code",
      "source": [
        "# 모델 훈련\n",
        "from sklearn.linear_model import LinearRegression\n",
        "\n",
        "lr = LinearRegression()\n",
        "lr.fit(train_poly, train_target)\n",
        "# 훈련 세트 점수\n",
        "print(lr.score(train_poly,train_target))"
      ],
      "metadata": {
        "colab": {
          "base_uri": "https://localhost:8080/"
        },
        "id": "1uK6M2KUayIG",
        "outputId": "cc9e5510-91ca-4c71-93b4-e2c05f5df137"
      },
      "execution_count": null,
      "outputs": [
        {
          "output_type": "stream",
          "name": "stdout",
          "text": [
            "0.9903183436982124\n"
          ]
        }
      ]
    },
    {
      "cell_type": "code",
      "source": [
        "# 테스트 세트 점수\n",
        "print(lr.score(test_poly,test_target))"
      ],
      "metadata": {
        "colab": {
          "base_uri": "https://localhost:8080/"
        },
        "id": "Af7xkTObayGC",
        "outputId": "4db1ea40-a841-4887-eb6b-b783028f1313"
      },
      "execution_count": null,
      "outputs": [
        {
          "output_type": "stream",
          "name": "stdout",
          "text": [
            "0.9714559911594134\n"
          ]
        }
      ]
    },
    {
      "cell_type": "markdown",
      "source": [
        "n 제곱항 특성까지 degree= n(default =2)"
      ],
      "metadata": {
        "id": "dpIRdfvvcT8_"
      }
    },
    {
      "cell_type": "code",
      "source": [
        "# 5제곱 까지 특성 만들기\n",
        "poly = PolynomialFeatures(degree=5, include_bias=False)\n",
        "poly.fit(train_input)\n",
        "train_poly = poly.transform(train_input)\n",
        "test_poly = poly.transform(test_input)\n",
        "print(train_poly.shape)"
      ],
      "metadata": {
        "colab": {
          "base_uri": "https://localhost:8080/"
        },
        "id": "bv_hDZJtayDn",
        "outputId": "7c276198-edcf-4035-ab93-e843957bc0b4"
      },
      "execution_count": null,
      "outputs": [
        {
          "output_type": "stream",
          "name": "stdout",
          "text": [
            "(42, 55)\n"
          ]
        }
      ]
    },
    {
      "cell_type": "code",
      "source": [
        "# 모델 학습\n",
        "lr.fit(train_poly,train_target)\n",
        "#훈련 세트 점수\n",
        "print(lr.score(train_poly, train_target))"
      ],
      "metadata": {
        "colab": {
          "base_uri": "https://localhost:8080/"
        },
        "id": "qz9xvT_RayBQ",
        "outputId": "481e5b76-2595-4fa8-d609-86ea3e076662"
      },
      "execution_count": null,
      "outputs": [
        {
          "output_type": "stream",
          "name": "stdout",
          "text": [
            "0.9999999999991097\n"
          ]
        }
      ]
    },
    {
      "cell_type": "code",
      "source": [
        "#테스트 세트 점수 => 과대 적합\n",
        "print(lr.score(test_poly,test_target))"
      ],
      "metadata": {
        "colab": {
          "base_uri": "https://localhost:8080/"
        },
        "id": "VaAo1YEzax-4",
        "outputId": "92dfdee3-2bd5-479c-c01e-a47a1b2f695a"
      },
      "execution_count": null,
      "outputs": [
        {
          "output_type": "stream",
          "name": "stdout",
          "text": [
            "-144.40579242684848\n"
          ]
        }
      ]
    },
    {
      "cell_type": "markdown",
      "source": [
        "과대 적합 원인 : 샘플 개수 보다 많은 특성 개수\n",
        "\n",
        "샘플 개수 : 42   <<   특성 개수 :55\n"
      ],
      "metadata": {
        "id": "W40Eqa7Dfxh3"
      }
    },
    {
      "cell_type": "markdown",
      "source": [
        "## 규제 regularization \n",
        "- 과대 적합 방지목적\n",
        "- 훈련세트를 너무 과도하게 학습하지 못하게도록 방해 (특성의 개수를 유지하는 경우)\n",
        "\n",
        "-선형 모델의 경우 : 특성에 곱해지는 계수를 작게 만든다 . 즉, 특성의 영향력을 줄인다\n",
        "\n"
      ],
      "metadata": {
        "id": "Ud3MjOdbgQn3"
      }
    },
    {
      "cell_type": "markdown",
      "source": [
        "### 표준화하기( standardziation)\n",
        "- 규제를 적용하기 위해선 표준화 필요\n",
        "- StandardScaler 클래스 사용( sklearn) : 표준점수 변환기\n",
        "\n",
        "from sklearn.preprocessing import StandardScaler\n",
        "\n",
        "- PolynomailFeatures클래스로 만든 세트로 훈련 후 변환"
      ],
      "metadata": {
        "id": "wqqHWVSDiQ6x"
      }
    },
    {
      "cell_type": "code",
      "source": [
        "from sklearn.preprocessing import StandardScaler\n",
        "\n",
        "ss = StandardScaler()\n",
        "ss.fit(train_poly)\n",
        "train_scaled = ss.transform(train_poly)\n",
        "test_scaled = ss.transform(test_poly)"
      ],
      "metadata": {
        "id": "8B_FaYlDax8o"
      },
      "execution_count": null,
      "outputs": []
    },
    {
      "cell_type": "markdown",
      "source": [
        "### 릿지 회귀 : 계수의 제곱을 기준으로 규제\n",
        "\n",
        "**from sklearn.linear_model import Ridge**"
      ],
      "metadata": {
        "id": "_otLiFXQj4KI"
      }
    },
    {
      "cell_type": "markdown",
      "source": [
        "**릿지 ridge 와 라쏘 lasso**\n",
        "\n",
        "릿지 : 계수를 제곱한 기준으로 규제 \n",
        "\n",
        "라쏘 : 계수의 절댓값을 기준으로 규제"
      ],
      "metadata": {
        "id": "1NVFDEl2ja2h"
      }
    },
    {
      "cell_type": "code",
      "source": [
        "from sklearn.linear_model import Ridge\n",
        "#릿지 학습\n",
        "ridge = Ridge()\n",
        "ridge.fit(train_scaled, train_target)\n",
        "#훈련세트 점수\n",
        "print(ridge.score(train_scaled, train_target))"
      ],
      "metadata": {
        "colab": {
          "base_uri": "https://localhost:8080/"
        },
        "id": "0yRjzs7rlnRF",
        "outputId": "b50c1a2c-3b24-4b4d-b37e-c7d9561028bb"
      },
      "execution_count": null,
      "outputs": [
        {
          "output_type": "stream",
          "name": "stdout",
          "text": [
            "0.9896101671037343\n"
          ]
        }
      ]
    },
    {
      "cell_type": "code",
      "source": [
        "#테스트 세트 점수\n",
        "print(ridge.score(test_scaled, test_target))"
      ],
      "metadata": {
        "colab": {
          "base_uri": "https://localhost:8080/"
        },
        "id": "qr72lI9JmbD5",
        "outputId": "0249255c-4cc7-4d31-9f6b-f67db9a81f71"
      },
      "execution_count": null,
      "outputs": [
        {
          "output_type": "stream",
          "name": "stdout",
          "text": [
            "0.9790693977615391\n"
          ]
        }
      ]
    },
    {
      "cell_type": "markdown",
      "source": [
        "**매개 변수 alpha 로 규제 강도 조절**\n",
        "\n",
        "규제 강도는 알파 값에 비례\n",
        "\n",
        "alpha는 직접 지정해야 줘야하는 hyperparameter"
      ],
      "metadata": {
        "id": "VS6yGBNBnFyA"
      }
    },
    {
      "cell_type": "code",
      "source": [
        "# 알파값 찾기\n",
        "\n",
        "import matplotlib.pyplot as plt\n",
        "\n",
        "train_score = []\n",
        "test_score=[]\n",
        "\n",
        "# 알파값을 0.001에서 100까지 10배 씩 늘림\n",
        "alpha_list  =[ 0.001, 0.01, 0.1, 1,10,100]\n",
        "# 각각의 훈련 점수와 테스트 점수 확인\n",
        "\n",
        "for alpha in alpha_list :\n",
        "  #모델 생성 및 학습\n",
        "  ridge = Ridge(alpha = alpha)\n",
        "  ridge.fit(train_scaled, train_target)\n",
        "\n",
        "  # 훈련점수, 테스트점수 저장\n",
        "  train_score.append(ridge.score(train_scaled, train_target))\n",
        "  test_score.append(ridge.score(test_scaled, test_target))\n"
      ],
      "metadata": {
        "id": "2OyCsGilmbGH"
      },
      "execution_count": null,
      "outputs": []
    },
    {
      "cell_type": "code",
      "source": [
        "#그래프 확인\n",
        "plt.plot(np.log10(alpha_list), train_score, label ='train set score' )\n",
        "plt.plot(np.log10(alpha_list), test_score, label = 'test set score' )\n",
        "plt.xlabel('alpha (log10)')\n",
        "plt.ylabel('R2')\n",
        "# bbox_to_anchor : 그래프 밖이나 좀더 정확한 위치에 라벨 표시\n",
        "plt.legend(bbox_to_anchor=(1,1))\n",
        "plt.show()"
      ],
      "metadata": {
        "colab": {
          "base_uri": "https://localhost:8080/",
          "height": 279
        },
        "id": "vMMZmsBPmbIW",
        "outputId": "cc8ee91e-dd71-4197-dc9b-81474d11d049"
      },
      "execution_count": null,
      "outputs": [
        {
          "output_type": "display_data",
          "data": {
            "text/plain": [
              "<Figure size 432x288 with 1 Axes>"
            ],
            "image/png": "[encoded data removed]"
          },
          "metadata": {
            "needs_background": "light"
          }
        }
      ]
    },
    {
      "cell_type": "markdown",
      "source": [
        "훈련세트와 테스트 점수가 가장 가깝고 점수가 높은 경우는 alpha= 0.1"
      ],
      "metadata": {
        "id": "JLizNhMeuTcR"
      }
    },
    {
      "cell_type": "code",
      "source": [
        "# alpha =0.1 모델\n",
        "ridge = Ridge(alpha=0.1)\n",
        "ridge.fit(train_scaled,train_target)\n",
        "print(ridge.score(train_scaled, train_target))\n",
        "print(ridge.score(test_scaled,test_target))"
      ],
      "metadata": {
        "colab": {
          "base_uri": "https://localhost:8080/"
        },
        "id": "gFllu4qMmbKv",
        "outputId": "d9801b7c-7ac3-4be8-eeea-5b3230290961"
      },
      "execution_count": null,
      "outputs": [
        {
          "output_type": "stream",
          "name": "stdout",
          "text": [
            "0.9903815817570365\n",
            "0.9827976465386884\n"
          ]
        }
      ]
    },
    {
      "cell_type": "markdown",
      "source": [
        "### 라쏘 회귀 : 특성 계수의 절댓값 기준\n",
        "\n",
        "유용한 특성을 골라내는 용도로 사용가능\n",
        "```\n",
        "from sklearn.linear_model import Lasso\n",
        "```\n",
        "규제 강도에 따라 계수값을 0으로 만드는 경우도 있다\n"
      ],
      "metadata": {
        "id": "Kq9cYfb4vAjL"
      }
    },
    {
      "cell_type": "code",
      "source": [
        "# 모델 생성 및 학습\n",
        "from sklearn.linear_model import Lasso\n",
        "\n",
        "lasso  = Lasso()\n",
        "lasso.fit(train_scaled, train_target)\n",
        "# 훈련 점수 확인\n",
        "print(lasso.score(train_scaled,train_target))"
      ],
      "metadata": {
        "colab": {
          "base_uri": "https://localhost:8080/"
        },
        "id": "65jhNnH-u_wL",
        "outputId": "2a38a650-a848-46c6-be47-81bdff2338e5"
      },
      "execution_count": null,
      "outputs": [
        {
          "output_type": "stream",
          "name": "stdout",
          "text": [
            "0.989789897208096\n"
          ]
        }
      ]
    },
    {
      "cell_type": "code",
      "source": [
        "# 테스트 점수 확인\n",
        "print(lasso.score(test_scaled, test_target))"
      ],
      "metadata": {
        "colab": {
          "base_uri": "https://localhost:8080/"
        },
        "id": "K3BSgBuAvqQO",
        "outputId": "d98cedb9-8341-4130-ef1d-3d724f1b52e1"
      },
      "execution_count": null,
      "outputs": [
        {
          "output_type": "stream",
          "name": "stdout",
          "text": [
            "0.9800593698421883\n"
          ]
        }
      ]
    },
    {
      "cell_type": "code",
      "source": [
        "#최적의 alpha값 찾기\n",
        "\n",
        "train_score =[]\n",
        "test_score = []\n",
        "alpha_list = [0.001,0.01,0.1,1,10,100]\n",
        "\n",
        "for alpha in alpha_list:\n",
        "  #모델 생성 및 학습\n",
        "  lasso = Lasso(alpha=alpha, max_iter = 10000)\n",
        "  lasso.fit(train_scaled, train_target)\n",
        "\n",
        "  #훈련점수와 테스트 점수 저장\n",
        "  train_score.append(lasso.score(train_scaled, train_target))\n",
        "  test_score.append(lasso.score(test_scaled, test_target))"
      ],
      "metadata": {
        "colab": {
          "base_uri": "https://localhost:8080/"
        },
        "id": "QZc2cDz3vvQT",
        "outputId": "34e224fa-2efb-4a16-9733-b271a0afa7fe"
      },
      "execution_count": null,
      "outputs": [
        {
          "output_type": "stream",
          "name": "stderr",
          "text": [
            "/usr/local/lib/python3.8/dist-packages/sklearn/linear_model/_coordinate_descent.py:647: ConvergenceWarning: Objective did not converge. You might want to increase the number of iterations, check the scale of the features or consider increasing regularisation. Duality gap: 1.878e+04, tolerance: 5.183e+02\n",
            "  model = cd_fast.enet_coordinate_descent(\n",
            "/usr/local/lib/python3.8/dist-packages/sklearn/linear_model/_coordinate_descent.py:647: ConvergenceWarning: Objective did not converge. You might want to increase the number of iterations, check the scale of the features or consider increasing regularisation. Duality gap: 1.297e+04, tolerance: 5.183e+02\n",
            "  model = cd_fast.enet_coordinate_descent(\n"
          ]
        }
      ]
    },
    {
      "cell_type": "markdown",
      "source": [
        "max_iter : 라쏘 모델이 학습할때 필요한 반복계산 횟수 지정"
      ],
      "metadata": {
        "id": "e_5cy79aw3rW"
      }
    },
    {
      "cell_type": "code",
      "source": [
        "#그래프 그리기\n",
        "plt.plot(np.log10(alpha_list), train_score, label='train score')\n",
        "plt.plot(np.log10(alpha_list), test_score, label='test score')\n",
        "plt.xlabel('alpha(log10)')\n",
        "plt.ylabel('R^2')\n",
        "plt.legend(bbox_to_anchor=(1,1))\n",
        "plt.show()"
      ],
      "metadata": {
        "colab": {
          "base_uri": "https://localhost:8080/",
          "height": 279
        },
        "id": "eIMc4-EXxL30",
        "outputId": "3a9994cf-c55d-4499-c73b-e420d714ca44"
      },
      "execution_count": null,
      "outputs": [
        {
          "output_type": "display_data",
          "data": {
            "text/plain": [
              "<Figure size 432x288 with 1 Axes>"
            ],
            "image/png": "[encoded data removed]"
          },
          "metadata": {
            "needs_background": "light"
          }
        }
      ]
    },
    {
      "cell_type": "markdown",
      "source": [
        "alpha= 10이 최적의 값"
      ],
      "metadata": {
        "id": "HlZMHPokyptm"
      }
    },
    {
      "cell_type": "code",
      "source": [
        "#alpha = 10\n",
        "lasso = Lasso(alpha= 10)\n",
        "lasso.fit(train_scaled, train_target)\n",
        "#점수확인\n",
        "print(lasso.score(train_scaled, train_target))\n",
        "print(lasso.score(test_scaled, test_target))"
      ],
      "metadata": {
        "colab": {
          "base_uri": "https://localhost:8080/"
        },
        "id": "V1WUTNCNyknG",
        "outputId": "cf473790-c4df-43c4-8c27-1ab86da32552"
      },
      "execution_count": null,
      "outputs": [
        {
          "output_type": "stream",
          "name": "stdout",
          "text": [
            "0.9888067471131867\n",
            "0.9824470598706695\n"
          ]
        }
      ]
    },
    {
      "cell_type": "code",
      "source": [
        "print(np.sum(lasso.coef_ ==0))"
      ],
      "metadata": {
        "colab": {
          "base_uri": "https://localhost:8080/"
        },
        "id": "0z6ytEpZzAVw",
        "outputId": "e8eeed1a-36c1-4ad0-c150-3c87b57bcc10"
      },
      "execution_count": null,
      "outputs": [
        {
          "output_type": "stream",
          "name": "stdout",
          "text": [
            "40\n"
          ]
        }
      ]
    },
    {
      "cell_type": "markdown",
      "source": [
        "55개 특성중 40개의 특성의 coefficient 값이 0\n",
        "즉, 라쏘모델이 사용한 특성은 15개이다."
      ],
      "metadata": {
        "id": "j3_ZN760zXRE"
      }
    }
  ]
}