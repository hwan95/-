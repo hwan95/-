{
  "nbformat": 4,
  "nbformat_minor": 0,
  "metadata": {
    "colab": {
      "provenance": [],
      "authorship_tag": "ABX9TyPyNievx60KlaOWNkA1wPHe",
      "include_colab_link": true
    },
    "kernelspec": {
      "name": "python3",
      "display_name": "Python 3"
    },
    "language_info": {
      "name": "python"
    }
  },
  "cells": [
    {
      "cell_type": "markdown",
      "metadata": {
        "id": "view-in-github",
        "colab_type": "text"
      },
      "source": [
        "<a href=\"https://colab.research.google.com/github/hwan95/HonegongML/blob/main/CH3_Regression.ipynb\" target=\"_parent\"><img src=\"https://colab.research.google.com/assets/colab-badge.svg\" alt=\"Open In Colab\"/></a>"
      ]
    },
    {
      "cell_type": "markdown",
      "source": [
        "# K-최근접 이웃 회귀 KNeighborsRegressor\n",
        "\n",
        "회귀 : 두 변수 사이의 상관관계를 분석하는 방법\n"
      ],
      "metadata": {
        "id": "LYBWL7I0Ksw-"
      }
    },
    {
      "cell_type": "markdown",
      "source": [
        "## 데이터 준비"
      ],
      "metadata": {
        "id": "P7TUEDA9K8nB"
      }
    },
    {
      "cell_type": "code",
      "source": [
        "import numpy as np"
      ],
      "metadata": {
        "id": "WC0QKi3HKyKe"
      },
      "execution_count": 1,
      "outputs": []
    },
    {
      "cell_type": "code",
      "source": [
        "perch_length = np.array(\n",
        "    [8.4, 13.7, 15.0, 16.2, 17.4, 18.0, 18.7, 19.0, 19.6, 20.0, \n",
        "     21.0, 21.0, 21.0, 21.3, 22.0, 22.0, 22.0, 22.0, 22.0, 22.5, \n",
        "     22.5, 22.7, 23.0, 23.5, 24.0, 24.0, 24.6, 25.0, 25.6, 26.5, \n",
        "     27.3, 27.5, 27.5, 27.5, 28.0, 28.7, 30.0, 32.8, 34.5, 35.0, \n",
        "     36.5, 36.0, 37.0, 37.0, 39.0, 39.0, 39.0, 40.0, 40.0, 40.0, \n",
        "     40.0, 42.0, 43.0, 43.0, 43.5, 44.0]\n",
        "     )\n",
        "perch_weight = np.array(\n",
        "    [5.9, 32.0, 40.0, 51.5, 70.0, 100.0, 78.0, 80.0, 85.0, 85.0, \n",
        "     110.0, 115.0, 125.0, 130.0, 120.0, 120.0, 130.0, 135.0, 110.0, \n",
        "     130.0, 150.0, 145.0, 150.0, 170.0, 225.0, 145.0, 188.0, 180.0, \n",
        "     197.0, 218.0, 300.0, 260.0, 265.0, 250.0, 250.0, 300.0, 320.0, \n",
        "     514.0, 556.0, 840.0, 685.0, 700.0, 700.0, 690.0, 900.0, 650.0, \n",
        "     820.0, 850.0, 900.0, 1015.0, 820.0, 1100.0, 1000.0, 1100.0, \n",
        "     1000.0, 1000.0]\n",
        "     )"
      ],
      "metadata": {
        "id": "n4WOir28LhaF"
      },
      "execution_count": 2,
      "outputs": []
    },
    {
      "cell_type": "code",
      "source": [
        "import matplotlib.pyplot as plt"
      ],
      "metadata": {
        "id": "vFRPd6-SLlRN"
      },
      "execution_count": 3,
      "outputs": []
    },
    {
      "cell_type": "code",
      "source": [
        "plt.scatter(perch_length, perch_weight)\n",
        "plt.xlabel('length')\n",
        "plt.ylabel('weight')\n",
        "plt.show()"
      ],
      "metadata": {
        "colab": {
          "base_uri": "https://localhost:8080/",
          "height": 279
        },
        "id": "yffrLCueLqyf",
        "outputId": "89c87045-3ae1-428c-b799-f670011c5645"
      },
      "execution_count": 4,
      "outputs": [
        {
          "output_type": "display_data",
          "data": {
            "text/plain": [
              "<Figure size 432x288 with 1 Axes>"
            ],
            "image/png": "[encoded data removed]"
          },
          "metadata": {
            "needs_background": "light"
          }
        }
      ]
    },
    {
      "cell_type": "code",
      "source": [
        "#데이터 분류\n",
        "from sklearn.model_selection import train_test_split\n",
        "\n",
        "train_input, test_input, train_target, test_target = train_test_split(\n",
        "    perch_length, perch_weight, random_state=42)"
      ],
      "metadata": {
        "id": "P_NGcVCmL1Gy"
      },
      "execution_count": 36,
      "outputs": []
    },
    {
      "cell_type": "code",
      "source": [
        "test_array = np.array([1,2,3,4])\n",
        "print(test_array.shape)"
      ],
      "metadata": {
        "colab": {
          "base_uri": "https://localhost:8080/"
        },
        "id": "AJzyW4NwMXPB",
        "outputId": "fe49396f-0c22-4fca-e2d3-15c33c7604d2"
      },
      "execution_count": 37,
      "outputs": [
        {
          "output_type": "stream",
          "name": "stdout",
          "text": [
            "(4,)\n"
          ]
        }
      ]
    },
    {
      "cell_type": "code",
      "source": [
        "test_array = test_array.reshape(2,2)\n",
        "print(test_array.shape)"
      ],
      "metadata": {
        "colab": {
          "base_uri": "https://localhost:8080/"
        },
        "id": "PyMXSCIzMmpu",
        "outputId": "6407d3b0-25ac-42f6-c157-a8615e64fdcc"
      },
      "execution_count": 38,
      "outputs": [
        {
          "output_type": "stream",
          "name": "stdout",
          "text": [
            "(2, 2)\n"
          ]
        }
      ]
    },
    {
      "cell_type": "code",
      "source": [
        "train_input= train_input.reshape(-1,1)\n",
        "test_input = test_input.reshape(-1,1)\n",
        "print(train_input.shape, test_input.shape)"
      ],
      "metadata": {
        "colab": {
          "base_uri": "https://localhost:8080/"
        },
        "id": "PrFxJ0Y3MtdQ",
        "outputId": "ca5a9188-a211-4d10-c825-eb43463c2a74"
      },
      "execution_count": 39,
      "outputs": [
        {
          "output_type": "stream",
          "name": "stdout",
          "text": [
            "(42, 1) (14, 1)\n"
          ]
        }
      ]
    },
    {
      "cell_type": "markdown",
      "source": [
        "## 결정계수 R2 :1에 가까울 수록 좋다\n",
        "model.score() 로 구한\n",
        "\n",
        "![다운로드.png](data:image/png;base64,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)"
      ],
      "metadata": {
        "id": "PWbz6-ZmNcw2"
      }
    },
    {
      "cell_type": "code",
      "source": [
        "from sklearn.neighbors import KNeighborsRegressor"
      ],
      "metadata": {
        "id": "N4tw7QKBNQTQ"
      },
      "execution_count": 40,
      "outputs": []
    },
    {
      "cell_type": "code",
      "source": [
        "knr = KNeighborsRegressor()\n",
        "knr.fit(train_input, train_target)"
      ],
      "metadata": {
        "colab": {
          "base_uri": "https://localhost:8080/"
        },
        "id": "xl2Eyt1aMkTG",
        "outputId": "4d89543e-5c30-4268-92ec-734bd072bfa2"
      },
      "execution_count": 41,
      "outputs": [
        {
          "output_type": "execute_result",
          "data": {
            "text/plain": [
              "KNeighborsRegressor()"
            ]
          },
          "metadata": {},
          "execution_count": 41
        }
      ]
    },
    {
      "cell_type": "code",
      "source": [
        "knr.score(test_input,test_target)"
      ],
      "metadata": {
        "colab": {
          "base_uri": "https://localhost:8080/"
        },
        "id": "BG_PFdhaKyFu",
        "outputId": "c285eb74-bec9-4e57-eff3-1c529cccee5a"
      },
      "execution_count": 42,
      "outputs": [
        {
          "output_type": "execute_result",
          "data": {
            "text/plain": [
              "0.992809406101064"
            ]
          },
          "metadata": {},
          "execution_count": 42
        }
      ]
    },
    {
      "cell_type": "markdown",
      "source": [
        "mean_abosolute_error() : 타깃과 예측의 절댓값 오차의 평균\n",
        "\n",
        "mean_sqaured_error(): 오차의 제곱의 평균"
      ],
      "metadata": {
        "id": "GiZuBoH5Vg-M"
      }
    },
    {
      "cell_type": "code",
      "source": [
        "from sklearn.metrics import mean_absolute_error, mean_squared_error"
      ],
      "metadata": {
        "id": "N778j5ajO3If"
      },
      "execution_count": 48,
      "outputs": []
    },
    {
      "cell_type": "code",
      "source": [
        "test_prediction = knr.predict(test_input)\n",
        "mae = mean_absolute_error(test_target,test_prediction)\n",
        "print(mae)"
      ],
      "metadata": {
        "colab": {
          "base_uri": "https://localhost:8080/"
        },
        "id": "OdgGxYQmO_zR",
        "outputId": "d88f5dc0-91dd-4a8c-9674-164c61a02d0a"
      },
      "execution_count": 43,
      "outputs": [
        {
          "output_type": "stream",
          "name": "stdout",
          "text": [
            "19.157142857142862\n"
          ]
        }
      ]
    },
    {
      "cell_type": "code",
      "source": [
        "# 상관계수 계산해보기\n",
        "std = test_target.std()\n",
        "mse = mean_squared_error(test_target, test_prediction)"
      ],
      "metadata": {
        "id": "cij3gXF6Xr8e"
      },
      "execution_count": 49,
      "outputs": []
    },
    {
      "cell_type": "code",
      "source": [
        "print(1- mse/(std*std), knr.score(test_input,test_target))"
      ],
      "metadata": {
        "colab": {
          "base_uri": "https://localhost:8080/"
        },
        "id": "TQwA29jYcdMd",
        "outputId": "d9850e42-0b93-4fd4-c469-041c6f51385f"
      },
      "execution_count": 53,
      "outputs": [
        {
          "output_type": "stream",
          "name": "stdout",
          "text": [
            "0.992809406101064 0.992809406101064\n"
          ]
        }
      ]
    },
    {
      "cell_type": "code",
      "source": [
        "print(knr.score(train_input, train_target))\n",
        "# 훈련세트의 점수보다 테스트세트의 점수가 높다"
      ],
      "metadata": {
        "id": "JDipFxEpPLlf",
        "colab": {
          "base_uri": "https://localhost:8080/"
        },
        "outputId": "748b5064-4ac5-408a-be97-612479bfb52e"
      },
      "execution_count": 14,
      "outputs": [
        {
          "output_type": "stream",
          "name": "stdout",
          "text": [
            "0.9698823289099254\n"
          ]
        }
      ]
    },
    {
      "cell_type": "markdown",
      "source": [
        "##과대 적합 과 과소 적합\n",
        "\n",
        "과대 적합 : 훈련세트 점수는 높으나 테스트 세트 점수가 나쁜 경우\n",
        "\n",
        "과소 적합 : 훈련세트보다 테스트의 점수가 높거나 두 점수가 모두 낮은 경우\n",
        "\n",
        "=>이웃의 개수를 조절\n",
        "\n",
        "*   이웃의 개수를 줄이면 국지적인 패턴에 민감\n",
        "*   이웃의 개수를 늘리면 데이터의 일반적인 패턴을 따름\n",
        "\n"
      ],
      "metadata": {
        "id": "8QybIgloRkCe"
      }
    },
    {
      "cell_type": "code",
      "source": [
        "knr.n_neighbors = 3\n",
        "\n",
        "knr.fit(train_input, train_target)\n",
        "print(knr.score(train_input, train_target))"
      ],
      "metadata": {
        "id": "0aMDT0JaO3Km",
        "colab": {
          "base_uri": "https://localhost:8080/"
        },
        "outputId": "d62ea8dc-e59d-41a9-9cd7-96b06806822c"
      },
      "execution_count": 15,
      "outputs": [
        {
          "output_type": "stream",
          "name": "stdout",
          "text": [
            "0.9804899950518966\n"
          ]
        }
      ]
    },
    {
      "cell_type": "code",
      "source": [
        "print(knr.score(test_input, test_target))"
      ],
      "metadata": {
        "id": "l9qDOVOHO3M1",
        "colab": {
          "base_uri": "https://localhost:8080/"
        },
        "outputId": "7e5d7e67-d354-4e2c-baab-7c885e49d53b"
      },
      "execution_count": 17,
      "outputs": [
        {
          "output_type": "stream",
          "name": "stdout",
          "text": [
            "0.9746459963987609\n"
          ]
        }
      ]
    },
    {
      "cell_type": "code",
      "source": [
        "# 연습\n",
        "knr = KNeighborsRegressor()\n",
        "\n",
        "x= np.arange(5,45).reshape(-1,1)\n",
        "\n",
        "for n in [1,5,10]:\n",
        "\n",
        "  knr.n_neighbors = n\n",
        "  knr.fit(train_input, train_target)\n",
        "  prediction = knr.predict(x)\n",
        "\n",
        "  plt.scatter(train_input, train_target)\n",
        "  plt.plot(x,prediction)\n",
        "  plt.title('n_neighbors ={}'.format(n))\n",
        "  plt.xlabel('length')\n",
        "  plt.ylabel('weight')\n",
        "  plt.show()"
      ],
      "metadata": {
        "colab": {
          "base_uri": "https://localhost:8080/",
          "height": 851
        },
        "id": "vijsSLhnaFTs",
        "outputId": "441e88da-0f02-4567-f69a-4f353ce24a7b"
      },
      "execution_count": 19,
      "outputs": [
        {
          "output_type": "display_data",
          "data": {
            "text/plain": [
              "<Figure size 432x288 with 1 Axes>"
            ],
            "image/png": "[encoded data removed]"
          },
          "metadata": {
            "needs_background": "light"
          }
        },
        {
          "output_type": "display_data",
          "data": {
            "text/plain": [
              "<Figure size 432x288 with 1 Axes>"
            ],
            "image/png": "[encoded data removed]"
          },
          "metadata": {
            "needs_background": "light"
          }
        },
        {
          "output_type": "display_data",
          "data": {
            "text/plain": [
              "<Figure size 432x288 with 1 Axes>"
            ],
            "image/png": "[encoded data removed]"
          },
          "metadata": {
            "needs_background": "light"
          }
        }
      ]
    },
    {
      "cell_type": "markdown",
      "source": [
        "##한계\n",
        "\n",
        "새로운 샘플이 훈련세트의 범위를 범어나면 엉뚱한 값을 예측 할 수 있다"
      ],
      "metadata": {
        "id": "1rJAfwqcWZ59"
      }
    },
    {
      "cell_type": "code",
      "source": [
        "from sklearn.model_selection import train_test_split\n",
        "\n",
        "train_input, test_input, train_target, test_target = train_test_split(\n",
        "    perch_length, perch_weight, random_state =42\n",
        ")"
      ],
      "metadata": {
        "id": "PJXXBPQ1cpOo"
      },
      "execution_count": 20,
      "outputs": []
    },
    {
      "cell_type": "code",
      "source": [
        "train_input = train_input.reshape(-1,1)\n",
        "test_input = test_input.reshape(-1,1)"
      ],
      "metadata": {
        "id": "JW92Gts7c3jU"
      },
      "execution_count": 21,
      "outputs": []
    },
    {
      "cell_type": "code",
      "source": [
        "# 최근접 이웃 개수 3 모델 훈련\n",
        "from sklearn.neighbors import KNeighborsRegressor\n",
        "\n",
        "knr = KNeighborsRegressor(n_neighbors = 3)\n",
        "knr.fit(train_input, train_target)\n",
        "print(knr.predict([[50]])) # 예측무게 1.033"
      ],
      "metadata": {
        "colab": {
          "base_uri": "https://localhost:8080/"
        },
        "id": "49LTG4PecpH8",
        "outputId": "647d7a38-cc45-42d4-a018-2caa80725597"
      },
      "execution_count": 23,
      "outputs": [
        {
          "output_type": "stream",
          "name": "stdout",
          "text": [
            "[1033.33333333]\n"
          ]
        }
      ]
    },
    {
      "cell_type": "code",
      "source": [
        "import matplotlib.pyplot as plt\n",
        "\n",
        "distances, indexes = knr.kneighbors([[50]])\n",
        "plt.scatter(train_input, train_target)\n",
        "#이웃샘플\n",
        "plt.scatter(train_input[indexes], train_target[indexes], marker='D')\n",
        "#50cm 농어 예측데이터\n",
        "plt.scatter(50,1033, marker='^')\n",
        "#100cm 농어 예측 데이터\n",
        "plt.scatter(100,knr.predict([[100]]), marker=\"^\")\n",
        "plt.xlabel('length')\n",
        "plt.ylabel('weight')\n",
        "plt.show()"
      ],
      "metadata": {
        "colab": {
          "base_uri": "https://localhost:8080/",
          "height": 279
        },
        "id": "fPcPefHSdSCc",
        "outputId": "53bf3f20-f89b-459a-de25-9f88d3280b68"
      },
      "execution_count": 28,
      "outputs": [
        {
          "output_type": "display_data",
          "data": {
            "text/plain": [
              "<Figure size 432x288 with 1 Axes>"
            ],
            "image/png": "[encoded data removed]"
          },
          "metadata": {
            "needs_background": "light"
          }
        }
      ]
    },
    {
      "cell_type": "markdown",
      "source": [
        "새로운 샘플이 훈련세트의 범위를 범어나면 엉뚱한 값을 예측 할 수 있다"
      ],
      "metadata": {
        "id": "F86D8Sl2eP38"
      }
    },
    {
      "cell_type": "code",
      "source": [],
      "metadata": {
        "id": "2ckOc99ScpAU"
      },
      "execution_count": null,
      "outputs": []
    },
    {
      "cell_type": "markdown",
      "source": [
        "# 선형 회귀 Linear Regression\n",
        "일차함수 모델"
      ],
      "metadata": {
        "id": "0NsYfIP1TZtm"
      }
    },
    {
      "cell_type": "markdown",
      "source": [
        "## 데이터 준비"
      ],
      "metadata": {
        "id": "_2QvQ87lhGnU"
      }
    },
    {
      "cell_type": "code",
      "source": [
        "import numpy as np"
      ],
      "metadata": {
        "id": "Yd4v4wkKO3PY"
      },
      "execution_count": 54,
      "outputs": []
    },
    {
      "cell_type": "code",
      "source": [
        "perch_length = np.array(\n",
        "    [8.4, 13.7, 15.0, 16.2, 17.4, 18.0, 18.7, 19.0, 19.6, 20.0, \n",
        "     21.0, 21.0, 21.0, 21.3, 22.0, 22.0, 22.0, 22.0, 22.0, 22.5, \n",
        "     22.5, 22.7, 23.0, 23.5, 24.0, 24.0, 24.6, 25.0, 25.6, 26.5, \n",
        "     27.3, 27.5, 27.5, 27.5, 28.0, 28.7, 30.0, 32.8, 34.5, 35.0, \n",
        "     36.5, 36.0, 37.0, 37.0, 39.0, 39.0, 39.0, 40.0, 40.0, 40.0, \n",
        "     40.0, 42.0, 43.0, 43.0, 43.5, 44.0]\n",
        "     )\n",
        "perch_weight = np.array(\n",
        "    [5.9, 32.0, 40.0, 51.5, 70.0, 100.0, 78.0, 80.0, 85.0, 85.0, \n",
        "     110.0, 115.0, 125.0, 130.0, 120.0, 120.0, 130.0, 135.0, 110.0, \n",
        "     130.0, 150.0, 145.0, 150.0, 170.0, 225.0, 145.0, 188.0, 180.0, \n",
        "     197.0, 218.0, 300.0, 260.0, 265.0, 250.0, 250.0, 300.0, 320.0, \n",
        "     514.0, 556.0, 840.0, 685.0, 700.0, 700.0, 690.0, 900.0, 650.0, \n",
        "     820.0, 850.0, 900.0, 1015.0, 820.0, 1100.0, 1000.0, 1100.0, \n",
        "     1000.0, 1000.0]\n",
        "     )"
      ],
      "metadata": {
        "id": "LJ96oy5ig9UA"
      },
      "execution_count": 55,
      "outputs": []
    },
    {
      "cell_type": "code",
      "source": [
        "from sklearn.model_selection import train_test_split\n",
        "\n",
        "train_input, test_input, train_target, test_target= train_test_split(\n",
        "    perch_length, perch_weight, random_state = 42\n",
        ")\n",
        "\n",
        "train_input = train_input.reshape(-1,1)\n",
        "test_input = test_input.reshape(-1,1)"
      ],
      "metadata": {
        "id": "qmF0VgSMO3SF"
      },
      "execution_count": 58,
      "outputs": []
    },
    {
      "cell_type": "markdown",
      "source": [
        "## 선형회귀 모델 학습\n"
      ],
      "metadata": {
        "id": "bvFpy_xij1gW"
      }
    },
    {
      "cell_type": "code",
      "source": [
        "from sklearn.linear_model import LinearRegression\n",
        "lr = LinearRegression()\n",
        "\n",
        "lr.fit(train_input, train_target)\n",
        "print(lr.predict([[50]]))"
      ],
      "metadata": {
        "colab": {
          "base_uri": "https://localhost:8080/"
        },
        "id": "WxgZSGaCi1YZ",
        "outputId": "66902a5c-1360-49d6-9892-9e5002efd1cf"
      },
      "execution_count": 60,
      "outputs": [
        {
          "output_type": "stream",
          "name": "stdout",
          "text": [
            "[1241.83860323]\n"
          ]
        }
      ]
    },
    {
      "cell_type": "code",
      "source": [
        "# 기울기, 절편\n",
        "print(lr.coef_, lr.intercept_)"
      ],
      "metadata": {
        "colab": {
          "base_uri": "https://localhost:8080/"
        },
        "id": "dY6Zlxwojky2",
        "outputId": "1c24e40e-2875-4a1e-fabe-65148b70f639"
      },
      "execution_count": 61,
      "outputs": [
        {
          "output_type": "stream",
          "name": "stdout",
          "text": [
            "[39.01714496] -709.0186449535477\n"
          ]
        }
      ]
    },
    {
      "cell_type": "code",
      "source": [
        "plt.scatter(train_input, train_target)\n",
        "# x range 15-50\n",
        "plt.plot([15,50], [15*lr.coef_ + lr.intercept_, 50*lr.coef_ + lr.intercept_])\n",
        "\n",
        "#50농어 데이터\n",
        "plt.scatter(50,1241.8, marker ='^')\n",
        "plt.xlabel('length')\n",
        "plt.ylabel('weight')\n",
        "plt.show()"
      ],
      "metadata": {
        "colab": {
          "base_uri": "https://localhost:8080/",
          "height": 279
        },
        "id": "DbCdQxeEkI93",
        "outputId": "a3eaa5af-891d-465b-9cc6-65c5594abd6b"
      },
      "execution_count": 62,
      "outputs": [
        {
          "output_type": "display_data",
          "data": {
            "text/plain": [
              "<Figure size 432x288 with 1 Axes>"
            ],
            "image/png": "[encoded data removed]"
          },
          "metadata": {
            "needs_background": "light"
          }
        }
      ]
    },
    {
      "cell_type": "code",
      "source": [
        "# 과소 적합\n",
        "print(lr.score(train_input, train_target)) #훈련세트\n",
        "print(lr.score(test_input, test_target)) # 테스트 세트"
      ],
      "metadata": {
        "colab": {
          "base_uri": "https://localhost:8080/"
        },
        "id": "L-wowBF7kJAU",
        "outputId": "bd8dd3be-0857-47c9-ece9-9ac99b2ae475"
      },
      "execution_count": 63,
      "outputs": [
        {
          "output_type": "stream",
          "name": "stdout",
          "text": [
            "0.939846333997604\n",
            "0.8247503123313558\n"
          ]
        }
      ]
    },
    {
      "cell_type": "markdown",
      "source": [
        "#다항 회귀 Polynomial Regression\n",
        "다항함수 모델"
      ],
      "metadata": {
        "id": "YGR0zjhYlbQG"
      }
    },
    {
      "cell_type": "code",
      "source": [
        "train_poly = np.column_stack((train_input**2, train_input))\n",
        "test_poly = np.column_stack((test_input**2, test_input))"
      ],
      "metadata": {
        "id": "-72SSxrEpVnW"
      },
      "execution_count": 65,
      "outputs": []
    },
    {
      "cell_type": "code",
      "source": [
        "print(train_poly.shape, test_poly.shape)"
      ],
      "metadata": {
        "colab": {
          "base_uri": "https://localhost:8080/"
        },
        "id": "aHze04i9pWI1",
        "outputId": "f1fbfeaf-8248-4e10-9efd-c84b795cd71d"
      },
      "execution_count": 66,
      "outputs": [
        {
          "output_type": "stream",
          "name": "stdout",
          "text": [
            "(42, 2) (14, 2)\n"
          ]
        }
      ]
    },
    {
      "cell_type": "code",
      "source": [
        "lr = LinearRegression()\n",
        "lr.fit(train_poly, train_target)\n",
        "\n",
        "print(lr.predict([[50**2,50]]))"
      ],
      "metadata": {
        "colab": {
          "base_uri": "https://localhost:8080/"
        },
        "id": "ySh0HtRvqHxI",
        "outputId": "f7444178-67aa-462c-c860-c18a38e9dd03"
      },
      "execution_count": 67,
      "outputs": [
        {
          "output_type": "stream",
          "name": "stdout",
          "text": [
            "[1573.98423528]\n"
          ]
        }
      ]
    },
    {
      "cell_type": "code",
      "source": [
        "print(lr.coef_, lr.intercept_)"
      ],
      "metadata": {
        "colab": {
          "base_uri": "https://localhost:8080/"
        },
        "id": "Ulogoa3kpWM2",
        "outputId": "525595e9-c988-4cc3-8a52-2c6fadb596aa"
      },
      "execution_count": 68,
      "outputs": [
        {
          "output_type": "stream",
          "name": "stdout",
          "text": [
            "[  1.01433211 -21.55792498] 116.0502107827827\n"
          ]
        }
      ]
    },
    {
      "cell_type": "code",
      "source": [
        "# 방정식 함수\n",
        "ef lr_predict(x):\n",
        "  y = lr.coef_[0]*(x**2) + lr.coef_[1]*x +lr.intercept_\n",
        "  return y"
      ],
      "metadata": {
        "id": "uXv4qkIwro2k"
      },
      "execution_count": 73,
      "outputs": []
    },
    {
      "cell_type": "code",
      "source": [
        "point = np.arange(15,50)\n",
        "\n",
        "plt.scatter(train_input, train_target)\n",
        "\n",
        "plt.plot(point,lr_predict(point))\n",
        "\n",
        "plt.scatter(50, lr.predict([[50**2,50]]), marker= '^')\n",
        "plt.xlabel('length')\n",
        "plt.ylabel('weight')\n",
        "plt.show()"
      ],
      "metadata": {
        "colab": {
          "base_uri": "https://localhost:8080/",
          "height": 279
        },
        "id": "VqI1Zr3jpWPk",
        "outputId": "3bc58b88-1ecc-49ff-efdc-c480b16e17bd"
      },
      "execution_count": 75,
      "outputs": [
        {
          "output_type": "display_data",
          "data": {
            "text/plain": [
              "<Figure size 432x288 with 1 Axes>"
            ],
            "image/png": "[encoded data removed]"
          },
          "metadata": {
            "needs_background": "light"
          }
        }
      ]
    },
    {
      "cell_type": "code",
      "source": [],
      "metadata": {
        "id": "G4bp91VMpWSM"
      },
      "execution_count": 75,
      "outputs": []
    },
    {
      "cell_type": "code",
      "source": [],
      "metadata": {
        "id": "hOJ3NXDKtFWi"
      },
      "execution_count": null,
      "outputs": []
    },
    {
      "cell_type": "code",
      "source": [],
      "metadata": {
        "id": "rv7VaYdPtFZc"
      },
      "execution_count": null,
      "outputs": []
    }
  ]
}