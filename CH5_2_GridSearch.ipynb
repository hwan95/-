{
  "nbformat": 4,
  "nbformat_minor": 0,
  "metadata": {
    "colab": {
      "provenance": [],
      "authorship_tag": "ABX9TyNCgsUkSyRARCid9S00RZIR",
      "include_colab_link": true
    },
    "kernelspec": {
      "name": "python3",
      "display_name": "Python 3"
    },
    "language_info": {
      "name": "python"
    }
  },
  "cells": [
    {
      "cell_type": "markdown",
      "metadata": {
        "id": "view-in-github",
        "colab_type": "text"
      },
      "source": [
        "<a href=\"https://colab.research.google.com/github/hwan95/HonegongML/blob/main/CH5_2_GridSearch.ipynb\" target=\"_parent\"><img src=\"https://colab.research.google.com/assets/colab-badge.svg\" alt=\"Open In Colab\"/></a>"
      ]
    },
    {
      "cell_type": "markdown",
      "source": [
        "#그리드 서치(Grid Search)\n",
        ": 하이퍼파라미터 탐색과 교차검증을 한번에 수행\n",
        "```\n",
        "from sklearn.model_selection import GridSearchCV\n",
        "params={'param_name':[searching values list]}\n",
        "gs = GridSearchCV(DecisionClassifier(random_state = 42),params, n_jobs=-1) \n",
        "```\n",
        "**키워드**\n",
        "- 검증세트(validation set)\n",
        "- 교차 검증(cross validation)\n"
      ],
      "metadata": {
        "id": "Vdjs9o3Ldbw9"
      }
    },
    {
      "cell_type": "markdown",
      "source": [
        "## 교차 검증(cross validation)\n",
        "\n",
        ": 검증 세트를 떼어내어 평가하는 과정을 여러번 반복한다\n",
        "\n",
        "**검증 세트(validation set)** 는 테스트 세트를 사용하지 않고 모델을 평가하기 위한 것으로 훈련세트의 일부분을 사용한다.\n",
        "\n",
        "**k_fold cross validation** 훈련세트를 k 부분으로 나누어 (k-1)개 세트를 훈련세트로, 1개 세트를 검증 세트로 나누어 모델을 훈련 및 평가하는 과정을 k번 반복하는 교차 검증 방법\n",
        "\n",
        "```\n",
        "from sklearn.model_selection import cross validate\n",
        "cross_validate(dt, train_input, target_input) # default = 5-fold\n",
        "```"
      ],
      "metadata": {
        "id": "GhRi9o4_d76W"
      }
    },
    {
      "cell_type": "markdown",
      "source": [
        "##검증 세트 구현"
      ],
      "metadata": {
        "id": "77IdWiYRlIIv"
      }
    },
    {
      "cell_type": "code",
      "source": [
        "# 데이터 불러오기\n",
        "import pandas as pd\n",
        "import numpy as np\n",
        "wine = pd.read_csv('https://raw.githubusercontent.com/rickiepark/hg-mldl/master/wine.csv')\n",
        "#배열 저장\n",
        "data = wine[['alcohol','sugar','pH']].to_numpy()\n",
        "target = wine['class'].to_numpy()"
      ],
      "metadata": {
        "id": "ORhi9InogppN"
      },
      "execution_count": null,
      "outputs": []
    },
    {
      "cell_type": "code",
      "source": [
        "#훈련세트와 테스트 세트 나누기\n",
        "from sklearn.model_selection import train_test_split\n",
        "train_input, test_input, train_target, test_target = train_test_split(\n",
        "    data, target, test_size = 0.2, random_state = 42\n",
        ")\n",
        "# 검증세트(val) 만들기\n",
        "sub_input, val_input, sub_target, val_target =train_test_split(\n",
        "    train_input, train_target, test_size =0.2, random_state =42\n",
        ")"
      ],
      "metadata": {
        "id": "ZefFWNt4gpmp"
      },
      "execution_count": null,
      "outputs": []
    },
    {
      "cell_type": "code",
      "source": [
        "print(sub_input.shape, val_input.shape)"
      ],
      "metadata": {
        "colab": {
          "base_uri": "https://localhost:8080/"
        },
        "id": "ca3EVekFgpf_",
        "outputId": "d20518b4-f6dc-4969-ea69-e705df24d279"
      },
      "execution_count": null,
      "outputs": [
        {
          "output_type": "stream",
          "name": "stdout",
          "text": [
            "(4157, 3) (1040, 3)\n"
          ]
        }
      ]
    },
    {
      "cell_type": "code",
      "source": [
        "# 모델 생성 및 평가\n",
        "from sklearn.tree import DecisionTreeClassifier\n",
        "dt = DecisionTreeClassifier(random_state = 42)\n",
        "dt.fit(sub_input, sub_target)\n",
        "# 훈련세트, 검증세트 점수 확인\n",
        "print(dt.score(sub_input, sub_target))\n",
        "print(dt.score(val_input,val_target))"
      ],
      "metadata": {
        "colab": {
          "base_uri": "https://localhost:8080/"
        },
        "id": "a0_wysipkphw",
        "outputId": "f1e9f067-4dc4-4965-e971-b09a6f7452f0"
      },
      "execution_count": null,
      "outputs": [
        {
          "output_type": "stream",
          "name": "stdout",
          "text": [
            "0.9971133028626413\n",
            "0.864423076923077\n"
          ]
        }
      ]
    },
    {
      "cell_type": "markdown",
      "source": [
        "##교차검증 구현\n",
        "\n",
        "\n",
        "- cross_validate() : test_score 값만 변환\n",
        "-StratifiedKFold() : 타킷 클래스를 골고루 분할\n",
        "-분할기 splitter 지정: 교차검증 할때 훈련세트 섞기 "
      ],
      "metadata": {
        "id": "-QQ9YjO9lTZX"
      }
    },
    {
      "cell_type": "code",
      "source": [
        "from sklearn.model_selection import cross_validate\n",
        "scores = cross_validate(dt,train_input, train_target)\n",
        "print(scores)"
      ],
      "metadata": {
        "colab": {
          "base_uri": "https://localhost:8080/"
        },
        "id": "6tayDv8ulATI",
        "outputId": "cef78371-8c59-4407-d78b-9863217000e7"
      },
      "execution_count": null,
      "outputs": [
        {
          "output_type": "stream",
          "name": "stdout",
          "text": [
            "{'fit_time': array([0.0096755 , 0.01633191, 0.01693153, 0.01321864, 0.00906491]), 'score_time': array([0.0012691 , 0.00125146, 0.0013032 , 0.00133276, 0.00085235]), 'test_score': array([0.86923077, 0.84615385, 0.87680462, 0.84889317, 0.83541867])}\n"
          ]
        }
      ]
    },
    {
      "cell_type": "code",
      "source": [
        "# 검증 테스트 점수 평균\n",
        "import numpy as np\n",
        "print(np.mean(scores['test_score']))"
      ],
      "metadata": {
        "colab": {
          "base_uri": "https://localhost:8080/"
        },
        "id": "AmpSL7Ldlh96",
        "outputId": "d85c0314-4bd3-4225-a12a-0187b300e7d8"
      },
      "execution_count": null,
      "outputs": [
        {
          "output_type": "stream",
          "name": "stdout",
          "text": [
            "0.855300214703487\n"
          ]
        }
      ]
    },
    {
      "cell_type": "code",
      "source": [
        "#타킷 클래스 골고루 분할\n",
        "from sklearn.model_selection import StratifiedKFold\n",
        "scores = cross_validate(dt,train_input, train_target, cv= StratifiedKFold())\n",
        "print(np.mean(scores['test_score']))"
      ],
      "metadata": {
        "colab": {
          "base_uri": "https://localhost:8080/"
        },
        "id": "nIMp64lqmF73",
        "outputId": "870874c0-12a5-4536-ac89-53162f3ce830"
      },
      "execution_count": null,
      "outputs": [
        {
          "output_type": "stream",
          "name": "stdout",
          "text": [
            "0.855300214703487\n"
          ]
        }
      ]
    },
    {
      "cell_type": "code",
      "source": [
        "# 훈련세트를 섞은후 10-폴드 교차검증\n",
        "splitter = StratifiedKFold(n_splits = 10, shuffle=True, random_state =42)\n",
        "score =cross_validate(dt, train_input, train_target, cv = splitter)\n",
        "print(np.mean(scores['test_score']))"
      ],
      "metadata": {
        "colab": {
          "base_uri": "https://localhost:8080/"
        },
        "id": "kN4_VLpe8gB-",
        "outputId": "55f625a9-2e45-47e7-d446-6dd0f735e0ed"
      },
      "execution_count": null,
      "outputs": [
        {
          "output_type": "stream",
          "name": "stdout",
          "text": [
            "0.855300214703487\n"
          ]
        }
      ]
    },
    {
      "cell_type": "code",
      "source": [],
      "metadata": {
        "id": "PaDOVd_Z-Q3r"
      },
      "execution_count": null,
      "outputs": []
    },
    {
      "cell_type": "markdown",
      "source": [
        "## 그리드 서치(Grid search)\n",
        "\n",
        ": 탐색할 매개변수와 탐색할 값의 리스트를 딕셔너리로 만듭니다\n",
        "```\n",
        "n_jobs : 실행에 사용할 CPU코어수, default =1\n",
        "n_jobs=-1 : 모든 cpu코어 사용\n",
        "\n",
        "gs.best_estimator_ : 검증 전수가 가장 높은 조합의 모델\n",
        "\n",
        "gs.best_params_: 그리드서치로 찾은 최적의 매개변수들\n",
        "\n",
        "gs.cv_results_['mean_test_score']: 교차검증 평균점수\n",
        "\n",
        "np.argmax(): 가장 큰값의 인덱스 추출\n",
        "```"
      ],
      "metadata": {
        "id": "yDnkcQsG-Y25"
      }
    },
    {
      "cell_type": "code",
      "source": [
        "#min_impurty_decrease 의 최적값 찾기\n",
        "from sklearn.model_selection import GridSearchCV\n",
        "params ={'min_impurity_decrease':[0.0001,0.0002,0.0003,0.0004,0.0005]}\n",
        "gs = GridSearchCV(DecisionTreeClassifier(random_state =42),params, n_jobs =-1)\n",
        "#n_jobs : 실행에 사용할 CPU코어수, default =1"
      ],
      "metadata": {
        "id": "cUVAVC2bAGxx"
      },
      "execution_count": null,
      "outputs": []
    },
    {
      "cell_type": "code",
      "source": [
        "gs.fit(train_input,train_target)"
      ],
      "metadata": {
        "colab": {
          "base_uri": "https://localhost:8080/"
        },
        "id": "ksNPr6ZqAGoE",
        "outputId": "1a39c29d-ca88-4289-bed5-44abec3b6645"
      },
      "execution_count": null,
      "outputs": [
        {
          "output_type": "execute_result",
          "data": {
            "text/plain": [
              "GridSearchCV(estimator=DecisionTreeClassifier(random_state=42), n_jobs=-1,\n",
              "             param_grid={'min_impurity_decrease': [0.0001, 0.0002, 0.0003,\n",
              "                                                   0.0004, 0.0005]})"
            ]
          },
          "metadata": {},
          "execution_count": 16
        }
      ]
    },
    {
      "cell_type": "code",
      "source": [
        "# 검증 점수가 가장높은 모델\n",
        "dt= gs.best_estimator_\n",
        "print(dt.score(train_input, train_target))"
      ],
      "metadata": {
        "colab": {
          "base_uri": "https://localhost:8080/"
        },
        "id": "Jp4pToZ6Bcn9",
        "outputId": "940a36ba-fa35-4d5a-fc4b-b606ccf704ff"
      },
      "execution_count": null,
      "outputs": [
        {
          "output_type": "stream",
          "name": "stdout",
          "text": [
            "0.9615162593804117\n"
          ]
        }
      ]
    },
    {
      "cell_type": "code",
      "source": [
        "#그리드 서치로 찾은 최적의 매개변수\n",
        "print(gs.best_params_)"
      ],
      "metadata": {
        "colab": {
          "base_uri": "https://localhost:8080/"
        },
        "id": "IAgt1_76CQ7i",
        "outputId": "bc17f625-c169-411e-80bc-1c2bea9dceaf"
      },
      "execution_count": null,
      "outputs": [
        {
          "output_type": "stream",
          "name": "stdout",
          "text": [
            "{'min_impurity_decrease': 0.0001}\n"
          ]
        }
      ]
    },
    {
      "cell_type": "code",
      "source": [
        "#교차검증 평균점수\n",
        "print(gs.cv_results_['mean_test_score'])"
      ],
      "metadata": {
        "colab": {
          "base_uri": "https://localhost:8080/"
        },
        "id": "J8hgZVj6CQ5a",
        "outputId": "55d872f7-2bbb-4235-d944-fa78fb6862e6"
      },
      "execution_count": null,
      "outputs": [
        {
          "output_type": "stream",
          "name": "stdout",
          "text": [
            "[0.86819297 0.86453617 0.86492226 0.86780891 0.86761605]\n"
          ]
        }
      ]
    },
    {
      "cell_type": "code",
      "source": [
        "#가장 큰 점수 출력\n",
        "best_index = np.argmax(gs.cv_results_['mean_test_score'])\n",
        "print(gs.cv_results_['params'][best_index])"
      ],
      "metadata": {
        "colab": {
          "base_uri": "https://localhost:8080/"
        },
        "id": "pGcyqQSyCQ3L",
        "outputId": "68f8c48e-8cb4-43a9-e527-5d2cf2736942"
      },
      "execution_count": null,
      "outputs": [
        {
          "output_type": "stream",
          "name": "stdout",
          "text": [
            "{'min_impurity_decrease': 0.0001}\n"
          ]
        }
      ]
    },
    {
      "cell_type": "code",
      "source": [
        "# 트리 깊이 제한 및 노드의 최소샘플수 지정\n",
        "\n",
        "params = {'min_impurity_decrease': np.arange(0.0001,0.001,0.0001),\n",
        "          'max_depth': range(5,20,1),\n",
        "          'min_samples_split': range(2,100,10)   \n",
        "}"
      ],
      "metadata": {
        "id": "OUBwV-QpDSkY"
      },
      "execution_count": null,
      "outputs": []
    },
    {
      "cell_type": "code",
      "source": [
        "gs = GridSearchCV(DecisionTreeClassifier(random_state = 42), params, n_jobs=-1)\n",
        "gs.fit(train_input, train_target)"
      ],
      "metadata": {
        "colab": {
          "base_uri": "https://localhost:8080/"
        },
        "id": "H5gGZB-xD2_1",
        "outputId": "1c675ce2-3e91-402c-9c45-9e5bca942ac6"
      },
      "execution_count": null,
      "outputs": [
        {
          "output_type": "execute_result",
          "data": {
            "text/plain": [
              "GridSearchCV(estimator=DecisionTreeClassifier(random_state=42), n_jobs=-1,\n",
              "             param_grid={'max_depth': range(5, 20),\n",
              "                         'min_impurity_decrease': array([0.0001, 0.0002, 0.0003, 0.0004, 0.0005, 0.0006, 0.0007, 0.0008,\n",
              "       0.0009]),\n",
              "                         'min_samples_split': range(2, 100, 10)})"
            ]
          },
          "metadata": {},
          "execution_count": 25
        }
      ]
    },
    {
      "cell_type": "code",
      "source": [
        "print(gs.best_params_)"
      ],
      "metadata": {
        "colab": {
          "base_uri": "https://localhost:8080/"
        },
        "id": "KUB-GjzBECwv",
        "outputId": "f80e9a15-2c52-460f-af9b-a9d0a2b90c82"
      },
      "execution_count": null,
      "outputs": [
        {
          "output_type": "stream",
          "name": "stdout",
          "text": [
            "{'max_depth': 14, 'min_impurity_decrease': 0.0004, 'min_samples_split': 12}\n"
          ]
        }
      ]
    },
    {
      "cell_type": "code",
      "source": [
        "print(np.max(gs.cv_results_['mean_test_score']))"
      ],
      "metadata": {
        "colab": {
          "base_uri": "https://localhost:8080/"
        },
        "id": "az8LLUUREUm5",
        "outputId": "43bc9c49-d3a6-480a-bbd2-0a2facc20e21"
      },
      "execution_count": null,
      "outputs": [
        {
          "output_type": "stream",
          "name": "stdout",
          "text": [
            "0.8683865773302731\n"
          ]
        }
      ]
    },
    {
      "cell_type": "markdown",
      "source": [
        "##랜덤 서치(Radom Search) \n",
        ": 매개변수를 샘플링할  수 있는 확률 분표를 전달\n",
        "\n",
        "매개 변수의 값의 범위나 간격을 정하기 어려운 경우, 변수조건이 까다로운 경우, 연속적인 실수값인 경우에 사용한다. \n",
        "\n",
        "```\n",
        "from sklearn.model_selection import RandomizedSearchCV\n",
        "gs = RandomizedSearchCV(DecisionTreeClassifier(random_state =42), params, n_iter = 100, n_jobs =-1, random_state=42)\n",
        "\n",
        "```"
      ],
      "metadata": {
        "id": "o6basrixEqM7"
      }
    },
    {
      "cell_type": "code",
      "source": [
        "from scipy.stats import uniform, randint\n",
        "rgen = randint(0,10)\n",
        "rgen.rvs(10)"
      ],
      "metadata": {
        "colab": {
          "base_uri": "https://localhost:8080/"
        },
        "id": "8uCIXzwTEizy",
        "outputId": "256c9155-8377-46c5-96d8-0771044d1952"
      },
      "execution_count": null,
      "outputs": [
        {
          "output_type": "execute_result",
          "data": {
            "text/plain": [
              "array([8, 5, 6, 3, 0, 1, 7, 9, 8, 3])"
            ]
          },
          "metadata": {},
          "execution_count": 30
        }
      ]
    },
    {
      "cell_type": "code",
      "source": [
        "np.unique(rgen.rvs(1000), return_counts = True)"
      ],
      "metadata": {
        "colab": {
          "base_uri": "https://localhost:8080/"
        },
        "id": "av_j7vRjEfnC",
        "outputId": "a5fcd38d-77e2-4e6c-f8fd-37f1cb544446"
      },
      "execution_count": null,
      "outputs": [
        {
          "output_type": "execute_result",
          "data": {
            "text/plain": [
              "(array([0, 1, 2, 3, 4, 5, 6, 7, 8, 9]),\n",
              " array([105, 100, 115, 101,  86, 100,  98,  89, 109,  97]))"
            ]
          },
          "metadata": {},
          "execution_count": 31
        }
      ]
    },
    {
      "cell_type": "code",
      "source": [
        "ugen = uniform(0,1)\n",
        "ugen.rvs(10)"
      ],
      "metadata": {
        "colab": {
          "base_uri": "https://localhost:8080/"
        },
        "id": "2Rozw5K7HZWl",
        "outputId": "13a7ff3d-6632-4e1f-ee44-8042898b2aa3"
      },
      "execution_count": null,
      "outputs": [
        {
          "output_type": "execute_result",
          "data": {
            "text/plain": [
              "array([0.29734983, 0.7962443 , 0.81693173, 0.23058552, 0.706598  ,\n",
              "       0.67881209, 0.6621744 , 0.03608869, 0.52871646, 0.74099364])"
            ]
          },
          "metadata": {},
          "execution_count": 32
        }
      ]
    },
    {
      "cell_type": "code",
      "source": [
        "#탐색할 매개변수의 딕셔너리 생성\n",
        "params ={'min_impurity_decrease': uniform(0.0001,0.001),\n",
        "         'max_depth': randint(20,50),\n",
        "         'min_samples_split':randint(2,25),\n",
        "         'min_samples_leaf': randint(1,25,) \n",
        "    \n",
        "}\n",
        "#min_samples_leaf : 리프노드의 최소샘플 수"
      ],
      "metadata": {
        "id": "cz6dFALhHmYv"
      },
      "execution_count": null,
      "outputs": []
    },
    {
      "cell_type": "code",
      "source": [
        "#랜덤 서치 실행\n",
        "from sklearn.model_selection import RandomizedSearchCV\n",
        "gs= RandomizedSearchCV(DecisionTreeClassifier(random_state=42), params, n_iter=100\n",
        "                       ,n_jobs = -1, random_state =42)\n",
        "gs.fit(train_input,train_target)\n",
        "#매개변수 조합 확인\n",
        "print(gs.best_params_)\n",
        "#교자 검증 최고점 확인\n",
        "print(np.max(gs.cv_results_['mean_test_score']))"
      ],
      "metadata": {
        "colab": {
          "base_uri": "https://localhost:8080/"
        },
        "id": "N5zGSPuKID9Z",
        "outputId": "04998cb5-9456-4966-e411-2061274b3529"
      },
      "execution_count": null,
      "outputs": [
        {
          "output_type": "stream",
          "name": "stdout",
          "text": [
            "{'max_depth': 39, 'min_impurity_decrease': 0.00034102546602601173, 'min_samples_leaf': 7, 'min_samples_split': 13}\n",
            "0.8695428296438884\n"
          ]
        }
      ]
    },
    {
      "cell_type": "code",
      "source": [
        "#최종모델 결정 및 테스트 세트확인\n",
        "dt= gs.best_estimator_\n",
        "print(dt.score(test_input, test_target))"
      ],
      "metadata": {
        "colab": {
          "base_uri": "https://localhost:8080/"
        },
        "id": "O6P3WhUiLQ09",
        "outputId": "2e60f6a2-af2b-4b9f-e311-1bd0c8046193"
      },
      "execution_count": null,
      "outputs": [
        {
          "output_type": "stream",
          "name": "stdout",
          "text": [
            "0.86\n"
          ]
        }
      ]
    },
    {
      "cell_type": "markdown",
      "source": [
        "### 예제\n",
        "```\n",
        "DecisionClassifier(splitter = 'random')\n",
        "```\n",
        "splitter='random' ( default = 'best' ) 이면 각 노드를 무작위로 분할한 후 가장 좋은 것을 고른다."
      ],
      "metadata": {
        "id": "ocTlL5vdLsGt"
      }
    },
    {
      "cell_type": "code",
      "source": [
        "from sklearn.model_selection import RandomizedSearchCV\n",
        "gs= RandomizedSearchCV(DecisionTreeClassifier(random_state=42, splitter='random'), params, n_iter=100\n",
        "                       ,n_jobs = -1, random_state =42)\n",
        "gs.fit(train_input,train_target)\n",
        "#매개변수 조합 확인\n",
        "print(gs.best_params_)\n",
        "#교자 검증 최고점 확인\n",
        "print(np.max(gs.cv_results_['mean_test_score']))"
      ],
      "metadata": {
        "colab": {
          "base_uri": "https://localhost:8080/"
        },
        "id": "9yLqAxHdLiB7",
        "outputId": "94049784-6a3e-40dd-d286-dad24c6188f4"
      },
      "execution_count": null,
      "outputs": [
        {
          "output_type": "stream",
          "name": "stdout",
          "text": [
            "{'max_depth': 43, 'min_impurity_decrease': 0.00011407982271508446, 'min_samples_leaf': 19, 'min_samples_split': 18}\n",
            "0.8458726956392981\n"
          ]
        }
      ]
    },
    {
      "cell_type": "code",
      "source": [
        "dt= gs.best_estimator_\n",
        "print(dt.score(test_input, test_target))"
      ],
      "metadata": {
        "colab": {
          "base_uri": "https://localhost:8080/"
        },
        "id": "tEtd3_EdL7Xt",
        "outputId": "a997de04-9326-42ca-82ea-e01fe6171f39"
      },
      "execution_count": null,
      "outputs": [
        {
          "output_type": "stream",
          "name": "stdout",
          "text": [
            "0.786923076923077\n"
          ]
        }
      ]
    }
  ]
}